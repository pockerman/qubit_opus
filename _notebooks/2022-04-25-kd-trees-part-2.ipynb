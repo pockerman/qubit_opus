{
 "cells": [
  {
   "cell_type": "markdown",
   "metadata": {},
   "source": [
    "# K-d trees part 2\n",
    "> \"Implement a k-d tree in C++\"\n",
    "\n",
    "- toc:true\n",
    "- branch: master\n",
    "- badges: false\n",
    "- comments: false\n",
    "- author: Alexandros Giavaras\n",
    "- categories: [multidimensional-search, kd-trees, k-nearest-search, algorithms, c++]"
   ]
  },
  {
   "cell_type": "markdown",
   "metadata": {},
   "source": [
    "## Note"
   ]
  },
  {
   "cell_type": "markdown",
   "metadata": {},
   "source": [
    "**Under development** :) :) :) "
   ]
  },
  {
   "cell_type": "markdown",
   "metadata": {},
   "source": [
    "## Overview "
   ]
  },
  {
   "cell_type": "markdown",
   "metadata": {},
   "source": [
    "In a previous post, we looked into what k-d trees are. In this post we want to go deeper into this view and attempt to implement a k-d tree in C++. The final code can be found <a href=\"https://github.com/pockerman/cubeai/blob/master/include/cubeai/data_structs/kd_tree.h\">here</a>. Furthermore, we will follow the implementation from the excellent book of Marcello La Rocca <a href=\"https://www.manning.com/books/advanced-algorithms-and-data-structures\">Advanced algorithms and data structures</a> by Manning Publications."
   ]
  },
  {
   "cell_type": "markdown",
   "metadata": {},
   "source": [
    "## K-d trees part 2"
   ]
  },
  {
   "cell_type": "markdown",
   "metadata": {},
   "source": [
    "Before starting implementing a k-d tree let's recall that this a binary search tree i.e. a hierarchical data structure. Specifically, a  k-d tree is a space partitioning data structure for organizing points in a k-dimensional space [1]. In a k-d tree every node in the tree represents a k-dimensional point [2]. Furthermore, we will assume that the coordinates of k-dimensional vector can be compared with each other."
   ]
  },
  {
   "cell_type": "markdown",
   "metadata": {},
   "source": [
    "Following [2], here is the exposed API:"
   ]
  },
  {
   "cell_type": "markdown",
   "metadata": {},
   "source": [
    "```\n",
    "template<typename NodeType>\n",
    "class KDTree\n",
    "{\n",
    "public:\n",
    "\n",
    " typedef NodeType node_type;\n",
    " typedef typename node_type::data_type data_type;\n",
    " \n",
    " KDTree(uint_t k);\n",
    "\n",
    " template<typename Iterator, typename SimilarityPolicy, typename ComparisonPolicy>\n",
    " KDTree(uint_t k, Iterator begin, Iterator end, \n",
    "        const SimilarityPolicy& sim_policy, \n",
    "        const ComparisonPolicy& comp_policy);\n",
    "\n",
    " bool empty()const noexcept;\n",
    " uint_t size()const noexcept;\n",
    " uint_t dim()const noexcept;\n",
    " \n",
    " template<typename ComparisonPolicy>\n",
    " std::shared_ptr<node_type>\n",
    " search(const data_type& data, const ComparisonPolicy& comp_policy)const;\n",
    " \n",
    " template<typename Iterator, typename SimilarityPolicy, typename ComparisonPolicy>\n",
    " void build(Iterator begin, Iterator end,\n",
    "             const SimilarityPolicy& sim_policy, \n",
    "             const ComparisonPolicy& comp_policy);\n",
    "             \n",
    " template<typename ComparisonPolicy>\n",
    " std::shared_ptr<node_type>\n",
    " insert(const data_type& data, const ComparisonPolicy& comp_policy);\n",
    "   \n",
    " template<typename ComparisonPolicy>\n",
    " std::vector<std::pair<typename ComparisonPolicy::value_type, typename NodeType::data_type>>\n",
    " nearest_search(const data_type& data, uint_t n, const ComparisonPolicy& calculator)const;\n",
    "\n",
    "};\n",
    "```"
   ]
  },
  {
   "cell_type": "markdown",
   "metadata": {},
   "source": [
    "The class above accepts the tree node as a generic parameter that exposes the type of the data to be stored. In this perspective, the ```KDTree``` is a homogeneous container.  "
   ]
  },
  {
   "cell_type": "markdown",
   "metadata": {},
   "source": [
    "According to the exposed API we can construct a k-d tree in two ways; by specifying the size of the space or by passing a range of data to be stored in the tree. The first construct actually creates an empty tree. We can populate this tree by calling either ```insert``` or preferably ```build```. We will explain below why this is the preferred method."
   ]
  },
  {
   "cell_type": "markdown",
   "metadata": {},
   "source": [
    "We can see that the exposed API does not have a ```remove``` or ```delete``` method. Typically, a k-d tree is constructed as remains as is. Furthermore, removing a node may result in an unbalanced tree which implies that the fast look up will not hold any more. Although it is possible  to re-balance the tree see e.g. [2], we won't pursue this path here. So let's concentrate on the rest of the methods. Perhaps the most important of which is the ```build``` method.  "
   ]
  },
  {
   "cell_type": "markdown",
   "metadata": {},
   "source": [
    "In our implementation we distinguish between similarity and comparison. A similarity metric, or policy, is used in order to decide whether two points are similar or close enough in the given metric. A comparison policy is used in order to compare coordinates of points. Thus, we use the similarity policy to search in the tree. And we use the comparison policy whenever strict comparison of point coordinates is needed."
   ]
  },
  {
   "cell_type": "markdown",
   "metadata": {},
   "source": [
    "### Building the tree"
   ]
  },
  {
   "cell_type": "markdown",
   "metadata": {},
   "source": [
    "The ```build``` function accepts a range of iterators pointing to the data, a similarity policy and a comparison policy. It delegates all its to the  ```call_``` function; a private to the outside world class that implements the nuts and bolds of building the tree. The ```call_``` function definition is shown below  "
   ]
  },
  {
   "cell_type": "markdown",
   "metadata": {},
   "source": [
    "```\n",
    "template<typename NodeType>\n",
    "template<typename Iterator, typename SimilarityPolicy, \n",
    "         typename ComparisonPolicy>\n",
    "void\n",
    "KDTree<NodeType>::create_(Iterator begin, Iterator end, \n",
    "                          uint_t level, \n",
    "                          const SimilarityPolicy& sim_policy, \n",
    "                          const ComparisonPolicy& comp_policy){\n",
    "\n",
    "\n",
    "    auto n_points = std::distance(begin, end);\n",
    "\n",
    "    // nothing to do if no points\n",
    "    // are given\n",
    "    if(n_points == 0){\n",
    "        return ;\n",
    "    }\n",
    "\n",
    "    if(n_points == 1){\n",
    "\n",
    "        auto data = *begin;\n",
    "\n",
    "        // create the root\n",
    "        root_ = std::make_shared<NodeType>(level, data, nullptr, nullptr);\n",
    "        ++n_nodes_;\n",
    "        return;\n",
    "    }\n",
    "\n",
    "    // otherwise partition the range\n",
    "    auto [median, left, right] = detail::partiion_on_median(begin, end, level, k_, comp_policy);\n",
    "\n",
    "    // create root\n",
    "    root_ = std::make_shared<NodeType>(level, median, nullptr, nullptr);\n",
    "    ++n_nodes_;\n",
    "\n",
    "    // create left and right subtrees\n",
    "    auto left_tree = do_create_(left.first, left.second, level + 1, sim_policy, comp_policy);\n",
    "\n",
    "    // create left and right subtrees\n",
    "    auto right_tree = do_create_(right.first, right.second, level + 1, sim_policy, comp_policy);\n",
    "\n",
    "    root_->left = left_tree;\n",
    "    root_->right = right_tree;\n",
    "}\n",
    "```"
   ]
  },
  {
   "cell_type": "markdown",
   "metadata": {},
   "source": [
    "The implementation above is fairly straightforward. However, let's go over a few details. The ```detail::partiion_on_median``` accepts a range of points the current tree ```level``` and the ```comp_policy``` and returns the median point at this ```level``` and the data that is left and right to the calculated median.  "
   ]
  },
  {
   "cell_type": "markdown",
   "metadata": {},
   "source": [
    "```\n",
    "template<typename Iterator, typename ComparisonPolicy>\n",
    "std::tuple<typename std::iterator_traits<Iterator>::value_type,\n",
    "           std::pair<Iterator, Iterator>,\n",
    "           std::pair<Iterator, Iterator>>\n",
    "partiion_on_median(Iterator begin, Iterator end, \n",
    "                   uint_t level, uint_t k, \n",
    "                   const ComparisonPolicy& comp_policy){\n",
    "\n",
    "    ...\n",
    "    \n",
    "    // the median index\n",
    "    auto median_idx = n_points % 2 == 0 ? (n_points + 1) / 2 : n_points / 2;\n",
    "\n",
    "    // how to compare the data at the given\n",
    "    // level. We use the level % k operation to decide\n",
    "    // which coordinate to use\n",
    "    auto compare = [&](const value_type& v1, const value_type& v2){\n",
    "        auto idx = level % k;\n",
    "        return comp_policy(v1, v2, idx); //v1[idx] < v2[idx];\n",
    "    };\n",
    "\n",
    "\n",
    "    // rearrange the elements. Do partial sorting\n",
    "    // \n",
    "    std::nth_element(begin, begin + median_idx, end , compare);\n",
    "\n",
    "    // get the data corresponding to the median\n",
    "    auto median = *(begin + median_idx);\n",
    "\n",
    "    // create the left are right sub-trees\n",
    "    auto left = std::make_pair<Iterator,   Iterator>(std::forward<Iterator>(begin), begin + median_idx);\n",
    "    auto right = std::make_pair<Iterator,   Iterator>(begin + median_idx + 1, std::forward<Iterator>(end));\n",
    "    return std::make_tuple(median, left, right);\n",
    "\n",
    "}\n",
    "```"
   ]
  },
  {
   "cell_type": "markdown",
   "metadata": {},
   "source": [
    "The implementation above uses <a href=\"https://en.cppreference.com/w/cpp/algorithm/nth_element\">std::nth_element</a> to partially sort the elements. According to the documentation:"
   ]
  },
  {
   "cell_type": "markdown",
   "metadata": {},
   "source": [
    "_```nth_element``` is a partial sorting algorithm that rearranges elements in ```[first, last)``` such that_\n",
    "\n",
    "- _The element pointed at by nth is changed to whatever element would occur in that position if ```[first, last)``` were sorted._\n",
    "- _All of the elements before this new nth element are less than or equal to the elements after the new nth element._"
   ]
  },
  {
   "cell_type": "markdown",
   "metadata": {},
   "source": [
    "We then recursively build the tree using ```do_create_```"
   ]
  },
  {
   "cell_type": "markdown",
   "metadata": {},
   "source": [
    "## References"
   ]
  },
  {
   "cell_type": "markdown",
   "metadata": {},
   "source": [
    "1. <a href=\"https://en.wikipedia.org/wiki/K-d_tree\">k-d tree</a>.\n",
    "2. Marcello La Rocca, _Advanced algorithms and data structures_, Manning Publications."
   ]
  }
 ],
 "metadata": {
  "kernelspec": {
   "display_name": "Python 3",
   "language": "python",
   "name": "python3"
  },
  "language_info": {
   "codemirror_mode": {
    "name": "ipython",
    "version": 3
   },
   "file_extension": ".py",
   "mimetype": "text/x-python",
   "name": "python",
   "nbconvert_exporter": "python",
   "pygments_lexer": "ipython3",
   "version": "3.8.10"
  }
 },
 "nbformat": 4,
 "nbformat_minor": 4
}
