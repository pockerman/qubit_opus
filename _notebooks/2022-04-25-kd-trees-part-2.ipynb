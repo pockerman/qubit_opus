{
 "cells": [
  {
   "cell_type": "markdown",
   "metadata": {},
   "source": [
    "# K-d trees part 2\n",
    "> \"Implement a k-d tree in C++\"\n",
    "\n",
    "- toc:true\n",
    "- branch: master\n",
    "- badges: false\n",
    "- comments: false\n",
    "- author: Alexandros Giavaras\n",
    "- categories: [multidimensional-search, kd-trees, k-nearest-search, algorithms, c++]"
   ]
  },
  {
   "cell_type": "markdown",
   "metadata": {},
   "source": [
    "## Note"
   ]
  },
  {
   "cell_type": "markdown",
   "metadata": {},
   "source": [
    "**Under development** :) :) :) "
   ]
  },
  {
   "cell_type": "markdown",
   "metadata": {},
   "source": [
    "## Overview "
   ]
  },
  {
   "cell_type": "markdown",
   "metadata": {},
   "source": [
    "In a previous post, we looked into what k-d trees are. In this post we want to go deeper into this view and attempt to implement a k-d tree in C++. The final code can be found <a href=\"https://github.com/pockerman/cubeai/blob/master/include/cubeai/data_structs/kd_tree.h\">here</a>. Furthermore, we will follow the implementation from the excellent book of Marcello La Rocca <a href=\"https://www.manning.com/books/advanced-algorithms-and-data-structures\">Advanced algorithms and data structures</a> by Manning Publications."
   ]
  },
  {
   "cell_type": "markdown",
   "metadata": {},
   "source": [
    "## K-d trees part 2"
   ]
  },
  {
   "cell_type": "markdown",
   "metadata": {},
   "source": [
    "Before starting implementing a k-d tree, recall that this a binary search tree i.e. a hierarchical data structure. Specifically, a  k-d tree is a space partitioning data structure for organizing points in a k-dimensional space [1]. In a k-d tree every node in the tree represents a k-dimensional point [2]. Furthermore, we will assume that the coordinates of k-dimensional vector can be compared with each other."
   ]
  },
  {
   "cell_type": "markdown",
   "metadata": {},
   "source": [
    "Following [2], here is the exposed API:"
   ]
  },
  {
   "cell_type": "markdown",
   "metadata": {},
   "source": [
    "```\n",
    "template<typename NodeType>\n",
    "class KDTree\n",
    "{\n",
    "public:\n",
    "\n",
    " typedef NodeType node_type;\n",
    " typedef typename node_type::data_type data_type;\n",
    " \n",
    " KDTree(uint_t k);\n",
    "\n",
    " template<typename Iterator, typename SimilarityPolicy, typename ComparisonPolicy>\n",
    " KDTree(uint_t k, Iterator begin, Iterator end, \n",
    "        const SimilarityPolicy& sim_policy, \n",
    "        const ComparisonPolicy& comp_policy);\n",
    "\n",
    " bool empty()const noexcept;\n",
    " uint_t size()const noexcept;\n",
    " uint_t dim()const noexcept;\n",
    " \n",
    " template<typename ComparisonPolicy>\n",
    " std::shared_ptr<node_type>\n",
    " search(const data_type& data, const ComparisonPolicy& comp_policy)const;\n",
    " \n",
    " template<typename Iterator, typename SimilarityPolicy, typename ComparisonPolicy>\n",
    " void build(Iterator begin, Iterator end,\n",
    "             const SimilarityPolicy& sim_policy, \n",
    "             const ComparisonPolicy& comp_policy);\n",
    "             \n",
    " template<typename ComparisonPolicy>\n",
    " std::shared_ptr<node_type>\n",
    " insert(const data_type& data, const ComparisonPolicy& comp_policy);\n",
    "   \n",
    " template<typename ComparisonPolicy>\n",
    " std::vector<std::pair<typename ComparisonPolicy::value_type, typename NodeType::data_type>>\n",
    " nearest_search(const data_type& data, uint_t n, const ComparisonPolicy& calculator)const;\n",
    "\n",
    "};\n",
    "```"
   ]
  },
  {
   "cell_type": "markdown",
   "metadata": {},
   "source": [
    "The class above accepts the tree node as a generic parameter that exposes the type of the data to be stored. In this perspective, the ```KDTree``` is a homogeneous container.  "
   ]
  },
  {
   "cell_type": "markdown",
   "metadata": {},
   "source": [
    "According to the exposed API we can construct a k-d tree in two ways; by specifying the size of the space or by passing a range of data to be stored in the tree. The first construct actually creates an empty tree. We can populate this tree by calling either ```insert``` or preferably ```build```. We will explain below why this is the preferred method."
   ]
  },
  {
   "cell_type": "markdown",
   "metadata": {},
   "source": [
    "We can see that the exposed API does not have a ```remove``` or ```delete``` method. Typically, a k-d tree is constructed as remains as is. Furthermore, removing a node may result in an unbalanced tree which implies that the fast look up will not hold any more."
   ]
  },
  {
   "cell_type": "markdown",
   "metadata": {},
   "source": [
    "## References"
   ]
  },
  {
   "cell_type": "markdown",
   "metadata": {},
   "source": [
    "1. <a href=\"https://en.wikipedia.org/wiki/K-d_tree\">k-d tree</a>.\n",
    "2. Marcello La Rocca, _Advanced algorithms and data structures_, Manning Publications."
   ]
  }
 ],
 "metadata": {
  "kernelspec": {
   "display_name": "Python 3",
   "language": "python",
   "name": "python3"
  },
  "language_info": {
   "codemirror_mode": {
    "name": "ipython",
    "version": 3
   },
   "file_extension": ".py",
   "mimetype": "text/x-python",
   "name": "python",
   "nbconvert_exporter": "python",
   "pygments_lexer": "ipython3",
   "version": "3.8.10"
  }
 },
 "nbformat": 4,
 "nbformat_minor": 4
}
