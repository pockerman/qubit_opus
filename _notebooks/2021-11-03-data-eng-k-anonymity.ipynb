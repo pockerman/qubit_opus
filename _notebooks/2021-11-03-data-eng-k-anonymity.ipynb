{
 "cells": [
  {
   "cell_type": "markdown",
   "metadata": {},
   "source": [
    "# Data Engineering. Data anonymity with k-anonymity\n",
    "\n",
    "> 'Introduction to data anonymization with k-anonymity'\n",
    "\n",
    "- toc:true\n",
    "- branch: master\n",
    "- badges: false\n",
    "- comments: false\n",
    "- author: Alexandros Giavaras\n",
    "- categories: [k-anonymity, anonymization, big-data, data-engineering]"
   ]
  },
  {
   "cell_type": "markdown",
   "metadata": {},
   "source": [
    "## Overview"
   ]
  },
  {
   "cell_type": "markdown",
   "metadata": {},
   "source": [
    "In this post, we take a look at the <a href=\"https://en.wikipedia.org/wiki/K-anonymity\">k-anonymity algorithm</a>. We will also look at how to use ARX for anonymizing a dataset."
   ]
  },
  {
   "cell_type": "markdown",
   "metadata": {},
   "source": [
    "## Data anonymity with k-anonymity"
   ]
  },
  {
   "cell_type": "markdown",
   "metadata": {},
   "source": [
    "Let's assume we have at our disposal a dataset $D$. We would like to be able to modify $D$ such that sensitive information about individuals within $D$ is not leaked. Let's denote the modified dataset $D$ with $\\hat{D}$. Modification of $D$ cannot be done recklessly because $\\hat{D}$ will not have any value in terms of performing analytics on it. Thus, anonymization, is about striking a balance between privacy and utility of the resulting anonymized set.  "
   ]
  },
  {
   "cell_type": "markdown",
   "metadata": {},
   "source": [
    "With $k-$anonymity a dataset $D$ is transformed so that it is difficult for an intruder to determine the identity of the individuals in $D$ [1]. When  a dataset is anonymized using $k-$anonymity, it has the property that each record is similar to at least $k-1$ other records on the potentially identifying variables."
   ]
  },
  {
   "cell_type": "markdown",
   "metadata": {},
   "source": [
    "Common implementations of the algorithm, use various transformation techniques such as [1]:"
   ]
  },
  {
   "cell_type": "markdown",
   "metadata": {},
   "source": [
    "- Generalization\n",
    "- Global recoding\n",
    "- Suppression"
   ]
  },
  {
   "cell_type": "markdown",
   "metadata": {},
   "source": [
    "Any record in a $k-$anonymized $D$ has a maximum probability $1/k$ of being re-identified [1]."
   ]
  },
  {
   "cell_type": "markdown",
   "metadata": {},
   "source": [
    "The algorithm was developed to protect against two types of attacks [1]:"
   ]
  },
  {
   "cell_type": "markdown",
   "metadata": {},
   "source": [
    "- Re-identification of a specific individual\n",
    "- Re-identification of an arbitrary individual"
   ]
  },
  {
   "cell_type": "markdown",
   "metadata": {},
   "source": [
    "In the first type of attack, the intruder would know that a particular individual exists in $\\hat{D}$ and wants to discover the record that belongs to that individual. In the second type of attack, the intruder is not interested in a specific individual but rather is interested in that re-identification _per se_ can be done [1]. "
   ]
  },
  {
   "cell_type": "markdown",
   "metadata": {},
   "source": [
    "In most cases, the algorithm is capable of preventing identity disclosure i.e. a record in a $k-$anonymized $D$ cannot be connected to the corresponding record in the non-anonymized dataset. However, it may fail to protect against attribute disclosure [2]. Approaches such as <a href=\"https://en.wikipedia.org/wiki/L-diversity\">l-diversity</a> and <a href=\"#\">t-closeness</a> have been proposed to overcome the limitations of $k-$anonymity. "
   ]
  },
  {
   "cell_type": "markdown",
   "metadata": {},
   "source": [
    "```\n",
    "package example_2\n",
    "\n",
    "import org.deidentifier.arx.ARXPopulationModel.Region\n",
    "\n",
    "import java.io.File\n",
    "import java.nio.charset.Charset\n",
    "import java.text.DecimalFormat\n",
    "import collection.JavaConverters.*\n",
    "import collection.mutable.ArrayBuffer\n",
    "\n",
    "import org.deidentifier.arx.{ARXAnonymizer, ARXConfiguration, ARXPopulationModel, ARXResult, AttributeType, Data, DataHandle, DataType}\n",
    "import org.deidentifier.arx.criteria.KAnonymity\n",
    "import org.deidentifier.arx.criteria.EqualDistanceTCloseness\n",
    "import org.deidentifier.arx.criteria.HierarchicalDistanceTCloseness\n",
    "import org.deidentifier.arx.criteria.DistinctLDiversity\n",
    "import org.deidentifier.arx.Data\n",
    "import org.deidentifier.arx.Data.DefaultData\n",
    "import org.deidentifier.arx.AttributeType.Hierarchy\n",
    "import org.deidentifier.arx.AttributeType.Hierarchy.DefaultHierarchy\n",
    "\n",
    "import postprocessor.ResultPrinter.{printResult, printHandle}\n",
    "\n",
    "\n",
    "\n",
    "/**\n",
    " * Example1: Load data to ARX\n",
    " */\n",
    "object KAnonymityARX\n",
    "{\n",
    "\n",
    "  def createData: Data = {\n",
    "\n",
    "    // Define data\n",
    "    val data = Data.create\n",
    "    data.add(\"age\", \"gender\", \"zipcode\")\n",
    "    data.add(\"34\", \"male\", \"81667\")\n",
    "    data.add(\"45\", \"female\", \"81675\")\n",
    "    data.add(\"66\", \"male\", \"81925\")\n",
    "    data.add(\"70\", \"female\", \"81931\")\n",
    "    data.add(\"34\", \"female\", \"81931\")\n",
    "    data.add(\"70\", \"male\", \"81931\")\n",
    "    data.add(\"45\", \"male\", \"81931\")\n",
    "    data\n",
    "  }\n",
    "\n",
    "  def main(args: Array[String]): Unit ={\n",
    "\n",
    "    System.out.println(\"Running example 2...\")\n",
    "\n",
    "    val data = createData\n",
    "\n",
    "    // check the columns\n",
    "    val nCols = data.getHandle.getNumColumns\n",
    "    println(s\"Number of columns ${nCols}\")\n",
    "\n",
    "    val nRows = data.getHandle.getNumRows\n",
    "    println(s\"Number of rows ${nRows}\")\n",
    "\n",
    "    // define hierarchies\n",
    "    val age = Hierarchy.create\n",
    "    age.add(\"34\", \"<50\", \"*\")\n",
    "    age.add(\"45\", \"<50\", \"*\")\n",
    "    age.add(\"66\", \">=50\", \"*\")\n",
    "    age.add(\"70\", \">=50\", \"*\")\n",
    "\n",
    "    val gender = Hierarchy.create\n",
    "    gender.add(\"male\", \"*\")\n",
    "    gender.add(\"female\", \"*\")\n",
    "\n",
    "    // Only excerpts for readability\n",
    "    val zipcode = Hierarchy.create\n",
    "    zipcode.add(\"81667\", \"8166*\", \"816**\", \"81***\", \"8****\", \"*****\")\n",
    "    zipcode.add(\"81675\", \"8167*\", \"816**\", \"81***\", \"8****\", \"*****\")\n",
    "    zipcode.add(\"81925\", \"8192*\", \"819**\", \"81***\", \"8****\", \"*****\")\n",
    "    zipcode.add(\"81931\", \"8193*\", \"819**\", \"81***\", \"8****\", \"*****\")\n",
    "\n",
    "    data.getDefinition.setAttributeType(\"age\", age)\n",
    "    data.getDefinition.setAttributeType(\"gender\", gender)\n",
    "    data.getDefinition.setAttributeType(\"zipcode\", zipcode)\n",
    "\n",
    "    System.out.println(\"Number of sensitive variables=\" + data.getHandle.getDefinition.getSensitiveAttributes.size)\n",
    "\n",
    "    // Create an instance of the anonymizer\n",
    "    val anonymizer = new ARXAnonymizer\n",
    "    val config = ARXConfiguration.create\n",
    "    config.addPrivacyModel(new KAnonymity(3))\n",
    "    config.setSuppressionLimit(0d)\n",
    "    val result = anonymizer.anonymize(data, config)\n",
    "\n",
    "    // Print info\n",
    "    printResult(result, data)\n",
    "\n",
    "    // Process results\n",
    "    System.out.println(\" - Transformed data:\")\n",
    "    printHandle(handle = result.getOutput(false))\n",
    "    System.out.println(\"Done!\")\n",
    "\n",
    "  }\n",
    "}\n",
    "```"
   ]
  },
  {
   "cell_type": "markdown",
   "metadata": {},
   "source": [
    "## References"
   ]
  },
  {
   "cell_type": "markdown",
   "metadata": {},
   "source": [
    "1. Khaled El, Fiad Kamal Dankar, ```Protecting privacy using k-anonymity```, Journal of American Medical Informatics Association, vol 15, pp. 627-637, 2008.\n",
    "2. Ismini Psychoula et al, ```A deep learning approach for privacy preservation in assisted living```."
   ]
  }
 ],
 "metadata": {
  "kernelspec": {
   "display_name": "Python 3",
   "language": "python",
   "name": "python3"
  },
  "language_info": {
   "codemirror_mode": {
    "name": "ipython",
    "version": 3
   },
   "file_extension": ".py",
   "mimetype": "text/x-python",
   "name": "python",
   "nbconvert_exporter": "python",
   "pygments_lexer": "ipython3",
   "version": "3.8.10"
  }
 },
 "nbformat": 4,
 "nbformat_minor": 4
}
