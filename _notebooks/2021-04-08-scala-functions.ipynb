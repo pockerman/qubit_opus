{
 "cells": [
  {
   "cell_type": "markdown",
   "metadata": {},
   "source": [
    "# Scala Programming. Functions\n",
    "\n",
    "\n",
    "> \"Brief introduction to Scala functions\"\n",
    "\n",
    "- toc:true\n",
    "- branch: master\n",
    "- badges: false\n",
    "- comments: false\n",
    "- author: Alexandros Giavaras\n",
    "- categories: [scala, functions, programming]"
   ]
  },
  {
   "cell_type": "markdown",
   "metadata": {},
   "source": [
    "## Overview"
   ]
  },
  {
   "cell_type": "markdown",
   "metadata": {},
   "source": [
    "In this Scala programming notebook, we will review functions in Scala."
   ]
  },
  {
   "cell_type": "markdown",
   "metadata": {},
   "source": [
    "## Functions in Scala"
   ]
  },
  {
   "cell_type": "markdown",
   "metadata": {},
   "source": [
    "The <a href=\"https://www.scala-lang.org/\">Scala programming language</a> is a JVM based language worthwhile exploring.  In this post I give a brief review of functions in Scala as I continue my exploration of the language.   "
   ]
  },
  {
   "cell_type": "markdown",
   "metadata": {},
   "source": [
    "Functions, in general, are at the core of every programming language when it comes to code organization and implementin the <a href=\"https://en.wikipedia.org/wiki/Don%27t_repeat_yourself\">DRY principle</a>. Scala supports two types of functions namely functions and methods. The difference is that a method operates on an object a function does not. "
   ]
  },
  {
   "cell_type": "markdown",
   "metadata": {},
   "source": [
    "We define  a function as follows"
   ]
  },
  {
   "cell_type": "markdown",
   "metadata": {},
   "source": [
    "```\n",
    "def myFunc(x: Integer) = if(x >=0) x else -x\n",
    "```"
   ]
  },
  {
   "cell_type": "markdown",
   "metadata": {},
   "source": [
    "When defining a function we must"
   ]
  },
  {
   "cell_type": "markdown",
   "metadata": {},
   "source": [
    "- specify the types of all parameters\n",
    "- if the function is not recursive i.e. does not call itself, we do not have to specify the return type\n",
    "- if the body of the function requires more than one expression,then we should use a block i.e. ```{}```. The last expression of the block becomes the value that the function returns."
   ]
  },
  {
   "cell_type": "markdown",
   "metadata": {},
   "source": [
    "As an aside, it is possible to omit the return type of the function. Indeed,  the Scala compiler can determine the return type from the type of the expression to the right of the ```=``` symbol. However, this may not be always the case. The following example demonstrates that"
   ]
  },
  {
   "cell_type": "markdown",
   "metadata": {},
   "source": [
    "```\n",
    "def myAbs(x: Double) = if(x >=0) x else -x\n",
    "```"
   ]
  },
  {
   "cell_type": "markdown",
   "metadata": {},
   "source": [
    "```\n",
    "val x = -10\n",
    "myAbs(x)\n",
    "```"
   ]
  },
  {
   "cell_type": "markdown",
   "metadata": {},
   "source": [
    "```\n",
    "x: Int = -10\n",
    "res1_1: Double = 10.0\n",
    "```"
   ]
  },
  {
   "cell_type": "markdown",
   "metadata": {},
   "source": [
    "However, with a recursive function, we must specify the return type"
   ]
  },
  {
   "cell_type": "markdown",
   "metadata": {},
   "source": [
    "```\n",
    "def fuc(x: Int): Int = if(x <= 0) 1 else x*fuc(x-1)\n",
    "```"
   ]
  },
  {
   "cell_type": "markdown",
   "metadata": {},
   "source": [
    "## Default & Named Arguments"
   ]
  },
  {
   "cell_type": "markdown",
   "metadata": {},
   "source": [
    "Just like C++, Scala also supports default arguments i.e. the default arguments for functions that are used when we do not specify explicit values"
   ]
  },
  {
   "cell_type": "markdown",
   "metadata": {},
   "source": [
    "```\n",
    "def showMe(x: Int=5) = println(\"You want to show \" + x)\n",
    "```"
   ]
  },
  {
   "cell_type": "markdown",
   "metadata": {},
   "source": [
    "```\n",
    "showMe()\n",
    "> You want to show 5\n",
    "showMe(6)\n",
    "> You want to show 6\n",
    "```"
   ]
  },
  {
   "cell_type": "markdown",
   "metadata": {},
   "source": [
    "One of the features that I really like in Python is the named argument(s). This feature is very handy for understanding arguments at call sites i.e. I don't need to do the trip to the (unavailable) documentation but more important is really helpful in mitigating errors. Scala also supports the idea of named arguments"
   ]
  },
  {
   "cell_type": "markdown",
   "metadata": {},
   "source": [
    "```\n",
    "def speak(arg1: String, arg2: String, arg3: String=\" the end\") = println(arg1 + arg2 + arg3)\n",
    "```"
   ]
  },
  {
   "cell_type": "markdown",
   "metadata": {},
   "source": [
    "```\n",
    "speak(arg2=\" is \", arg1=\"This \")\n",
    "> This  is  the end\n",
    "```"
   ]
  },
  {
   "cell_type": "markdown",
   "metadata": {},
   "source": [
    "As you can see, the named arguments need not be in the same order as the parameters. Furthermore, we can mix unnamed and named arguments, provided the unnamed ones come first. This is similar to Python."
   ]
  },
  {
   "cell_type": "markdown",
   "metadata": {},
   "source": [
    "## Variable Arguments"
   ]
  },
  {
   "cell_type": "markdown",
   "metadata": {},
   "source": [
    "Often it is useful to have a function that can take a variable\n",
    "number of arguments think of ```printf```. Usually we call these as varargs functions Scala supports this idea too "
   ]
  },
  {
   "cell_type": "markdown",
   "metadata": {},
   "source": [
    "```\n",
    "def sum(args: Int*): Int = {\n",
    "    var result = 0\n",
    "    for(arg <- args) result += arg\n",
    "    result\n",
    "}\n",
    "```"
   ]
  },
  {
   "cell_type": "markdown",
   "metadata": {},
   "source": [
    "```\n",
    "val s = sum(1, 4, 9, 16, 25)\n",
    "> s: Int = 55\n",
    "```"
   ]
  },
  {
   "cell_type": "markdown",
   "metadata": {},
   "source": [
    "The actual type received by the function is of type ```Seq```. However, we can not do the following"
   ]
  },
  {
   "cell_type": "markdown",
   "metadata": {},
   "source": [
    "```\n",
    "val s = sum(1 to 5)\n",
    "\n",
    "> cmd10.sc:1: type mismatch;\n",
    " found   : scala.collection.immutable.Range.Inclusive\n",
    " required: Int\n",
    "val s = sum(1 to 5)\n",
    "              ^Compilation Failed\n",
    "\n",
    "Compilation Failed\n",
    "\n",
    "\n",
    "```"
   ]
  },
  {
   "cell_type": "markdown",
   "metadata": {},
   "source": [
    "That's because if the ```sum``` function is called with one argument, that must be a single integer. Here is how we can fix this"
   ]
  },
  {
   "cell_type": "markdown",
   "metadata": {},
   "source": [
    "```\n",
    "val s = sum(1 to 5:_*)\n",
    "\n",
    "> s: Int = 15\n",
    "```"
   ]
  },
  {
   "cell_type": "markdown",
   "metadata": {},
   "source": [
    "## References"
   ]
  },
  {
   "cell_type": "markdown",
   "metadata": {},
   "source": [
    "1. Cay Horstmann ```Scala for the impatient```, Addison-Wesley."
   ]
  }
 ],
 "metadata": {
  "kernelspec": {
   "display_name": "Python 3",
   "language": "python",
   "name": "python3"
  },
  "language_info": {
   "codemirror_mode": {
    "name": "ipython",
    "version": 3
   },
   "file_extension": ".py",
   "mimetype": "text/x-python",
   "name": "python",
   "nbconvert_exporter": "python",
   "pygments_lexer": "ipython3",
   "version": "3.8.10"
  }
 },
 "nbformat": 4,
 "nbformat_minor": 4
}
