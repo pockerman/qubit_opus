{
 "cells": [
  {
   "cell_type": "markdown",
   "metadata": {},
   "source": [
    "# Use Django with Apache\n",
    "\n",
    "> \"Managing a Django application via Apache server\"\n",
    "\n",
    "- toc:true\n",
    "- branch: master\n",
    "- badges: false\n",
    "- comments: false\n",
    "- author: Alexandros Giavaras\n",
    "- categories: [programming, Django, Python, Apache, web-development]"
   ]
  },
  {
   "cell_type": "markdown",
   "metadata": {},
   "source": [
    "## <a name=\"overview\"></a>  Overview"
   ]
  },
  {
   "cell_type": "markdown",
   "metadata": {},
   "source": [
    "Recently, I had to serve an application developed with Django on a LAMP infrastructure. I will describe in this post the steps I followed in order to do so. You can find the application <a href=\"https://www487.lamp.le.ac.uk/\">here</a>."
   ]
  },
  {
   "cell_type": "markdown",
   "metadata": {},
   "source": [
    "## <a name=\"overview\"></a>  Use Django with Apache"
   ]
  },
  {
   "cell_type": "markdown",
   "metadata": {},
   "source": [
    "To start with, the Django offcial documentation has most of the information you need <a href=\"https://docs.djangoproject.com/en/3.2/howto/deployment/wsgi/modwsgi/\">here</a>. The suggested way is by using ```mod_wsgi```. The problem that I had with that was due to a problem with SQLite that the project was initially using. I had to create a virtual environment on the server and install everything under the virtual environment. However, ```mod_wsgi``` only works with the version of Python it was compiled against. So if this is the case you may have to install the package in your environment. "
   ]
  },
  {
   "cell_type": "markdown",
   "metadata": {},
   "source": [
    "In the latter scenario, you need to configure the modules loaded by Apache such that it points to your installation and not the system-wide one. You can run a ```find``` command on the directory you have your virtual environments:"
   ]
  },
  {
   "cell_type": "markdown",
   "metadata": {},
   "source": [
    "```\n",
    "find /path/to/your/envs/ -name \"mod_wsgi*.so\"\n",
    "```"
   ]
  },
  {
   "cell_type": "markdown",
   "metadata": {},
   "source": [
    "Then you need to update ```loadmodule.conf``` (which is typically located at ```/local/apache2/etc/```) to point to the path given by ```find```."
   ]
  },
  {
   "cell_type": "markdown",
   "metadata": {},
   "source": [
    "You then need to update the ```httpd.conf``` file according to your needs. You will need to provide as a minimum the following"
   ]
  },
  {
   "cell_type": "markdown",
   "metadata": {},
   "source": [
    "```\n",
    "Alias /robots.txt /path/to/mysite.com/static/robots.txt\n",
    "Alias /favicon.ico /path/to/mysite.com/static/favicon.ico\n",
    "\n",
    "Alias /media/ /path/to/mysite.com/media/\n",
    "Alias /static/ /path/to/mysite.com/static/\n",
    "\n",
    "<Directory /path/to/mysite.com/static>\n",
    "Require all granted\n",
    "</Directory>\n",
    "\n",
    "<Directory /path/to/mysite.com/media>\n",
    "Require all granted\n",
    "</Directory>\n",
    "\n",
    "WSGIDaemonProcess django_app_name python-home=/path/to/virtual/env/ python-path=/path/to/django/app/\n",
    "WSGIProcessGroup  django_app_name\n",
    "WSGIScriptAlias / /path/to/django/app/wsgi.py process-group=django_app_name\n",
    "WSGIApplicationGroup %{GLOBAL}\n",
    "\n",
    "\n",
    "<Directory /path/to/mysite.com/mysite>\n",
    "<Files wsgi.py>\n",
    "Require all granted\n",
    "</Files>\n",
    "</Directory>\n",
    "```"
   ]
  },
  {
   "cell_type": "markdown",
   "metadata": {},
   "source": [
    "It turns out that the process is not overly complicated but it may take some time to figure out some things. "
   ]
  }
 ],
 "metadata": {
  "kernelspec": {
   "display_name": "Python 3",
   "language": "python",
   "name": "python3"
  },
  "language_info": {
   "codemirror_mode": {
    "name": "ipython",
    "version": 3
   },
   "file_extension": ".py",
   "mimetype": "text/x-python",
   "name": "python",
   "nbconvert_exporter": "python",
   "pygments_lexer": "ipython3",
   "version": "3.8.10"
  }
 },
 "nbformat": 4,
 "nbformat_minor": 4
}
