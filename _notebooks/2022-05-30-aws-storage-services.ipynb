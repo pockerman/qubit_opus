{
 "cells": [
  {
   "cell_type": "markdown",
   "metadata": {},
   "source": [
    "# AWS. Storage services\n",
    "\n",
    "> 'High level overview of some of AWS storage services'\n",
    "\n",
    "\n",
    "- toc:true\n",
    "- branch: master\n",
    "- badges: false\n",
    "- comments: false\n",
    "- author: Alexandros Giavaras\n",
    "- categories: [aws, aws-storage-services, cloud-computing, data-storage]\n"
   ]
  },
  {
   "cell_type": "markdown",
   "metadata": {},
   "source": [
    "## Overview"
   ]
  },
  {
   "cell_type": "markdown",
   "metadata": {},
   "source": [
    "In this post we want to briefly go over the available  AWS storage services.  You can find more information about the subject on <a href=\"https://aws.amazon.com/products/storage/\">Cloud Storage on AWS</a>. So without further ado let's review the options available to us."
   ]
  },
  {
   "cell_type": "markdown",
   "metadata": {},
   "source": [
    "## AWS storage services"
   ]
  },
  {
   "cell_type": "markdown",
   "metadata": {},
   "source": [
    "Given that demands on a storage can vary depending on the application, it is natural that AWS, and any other cloud provider on that matter, offers a variety of storage services. The first service we look into is the S3 service."
   ]
  },
  {
   "cell_type": "markdown",
   "metadata": {},
   "source": [
    "### Simple storage services"
   ]
  },
  {
   "cell_type": "markdown",
   "metadata": {},
   "source": [
    "The <a href=\"https://aws.amazon.com/s3/?nc=sn&loc=0\">simple storage service (S3)</a> is designed to store any type of data. It is a serverless service. Items in S3 are stored in buckets. As we add items to the buckets its size grows. In theory there is no limit on the size a bucket can get. We describe how to create a bucket in S3 via python in <a href=\"https://pockerman.github.io/qubit_opus/aws/s3-buckets/cloud-computing/data-storage/data-engineering/boto3/2021/11/11/aws-s3-buckets.html\">AWS. S3 Buckets</a>."
   ]
  },
  {
   "cell_type": "markdown",
   "metadata": {},
   "source": [
    "### Glacier"
   ]
  },
  {
   "cell_type": "markdown",
   "metadata": {},
   "source": [
    "The <a href=\"https://aws.amazon.com/s3/storage-classes/glacier/\">Glacier</a> storage is the cheapest storage option in AWS. It is used for long term storage of data. Just like S3 is a serverless service. However, it is not as readily accessible as S3. Given this, typically Glacier storage is used for archiving data rather than storing data used on a daily basis."
   ]
  },
  {
   "cell_type": "markdown",
   "metadata": {},
   "source": [
    "### Elastic block store"
   ]
  },
  {
   "cell_type": "markdown",
   "metadata": {},
   "source": [
    "The next storage type we will review is the <a href=\"https://aws.amazon.com/ebs/\">elastic block store</a> or EBS. This is a highly available and low latency storage type. It is specific for attaching it to servers launched with the Amazon EC2 service. You can visualize EBS as attaching a hard drive to your computer."
   ]
  },
  {
   "cell_type": "markdown",
   "metadata": {},
   "source": [
    "### Elastic file system"
   ]
  },
  {
   "cell_type": "markdown",
   "metadata": {},
   "source": [
    "The <a href=\"https://aws.amazon.com/efs/\">AWS elastic file system</a> (EFS) is network attached storage. This allows multiple servers to access one data source."
   ]
  },
  {
   "cell_type": "markdown",
   "metadata": {},
   "source": [
    "### Storage gateway"
   ]
  },
  {
   "cell_type": "markdown",
   "metadata": {},
   "source": [
    "The <a href=\"AWS Storage Gateway\">AWS storage gateway</a> enables hybrid storage between on premises environments and the AWS cloud. Frequently used data is cached and therefore it provides low latency."
   ]
  },
  {
   "cell_type": "markdown",
   "metadata": {},
   "source": [
    "### Snowball "
   ]
  },
  {
   "cell_type": "markdown",
   "metadata": {},
   "source": [
    "An <a href=\"https://aws.amazon.com/snowball/\">AWS Snowball</a> device allows us to move data offline to the cloud. "
   ]
  },
  {
   "cell_type": "markdown",
   "metadata": {},
   "source": [
    "## Summary"
   ]
  },
  {
   "cell_type": "markdown",
   "metadata": {},
   "source": [
    "In this post we did a very high level overview of some of the available storage options on AWS. "
   ]
  },
  {
   "cell_type": "markdown",
   "metadata": {},
   "source": [
    "## References"
   ]
  },
  {
   "cell_type": "markdown",
   "metadata": {},
   "source": [
    "1. <a href=\"https://aws.amazon.com/s3/?nc=sn&loc=0\">Amazon S3</a>. \n",
    "2. <a href=\"https://aws.amazon.com/s3/storage-classes/glacier/\">Amazon S3 Glacier storage classes</a>\n",
    "3. <a href=\"https://aws.amazon.com/ebs/\">Amazon Elastic Block Store</a>\n",
    "4. <a href=\"https://aws.amazon.com/efs/\">Amazon Elastic File System</a>\n",
    "5. <a href=\"https://aws.amazon.com/storagegateway/\">AWS Storage Gateway</a>\n",
    "6. <a href=\"https://aws.amazon.com/snowball/\">AWS Snowball</a>"
   ]
  }
 ],
 "metadata": {
  "kernelspec": {
   "display_name": "Python 3",
   "language": "python",
   "name": "python3"
  },
  "language_info": {
   "codemirror_mode": {
    "name": "ipython",
    "version": 3
   },
   "file_extension": ".py",
   "mimetype": "text/x-python",
   "name": "python",
   "nbconvert_exporter": "python",
   "pygments_lexer": "ipython3",
   "version": "3.8.10"
  }
 },
 "nbformat": 4,
 "nbformat_minor": 4
}
