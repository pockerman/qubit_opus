{
 "cells": [
  {
   "cell_type": "markdown",
   "metadata": {},
   "source": [
    "# AWS. Compute services\n",
    "\n",
    "> 'High level overview of AWS compute services'\n",
    "\n",
    "\n",
    "- toc:true\n",
    "- branch: master\n",
    "- badges: false\n",
    "- comments: false\n",
    "- author: Alexandros Giavaras\n",
    "- categories: [aws, aws-compute-services, cloud-computing]"
   ]
  },
  {
   "cell_type": "markdown",
   "metadata": {},
   "source": [
    "## Overview\n"
   ]
  },
  {
   "cell_type": "markdown",
   "metadata": {},
   "source": [
    "In this post we will briefly go over the AWS compute services. You can find more information at <a href=\"https://docs.aws.amazon.com/whitepapers/latest/aws-overview/compute-services.html\">Compute Services</a>."
   ]
  },
  {
   "cell_type": "markdown",
   "metadata": {},
   "source": [
    "## Compute services "
   ]
  },
  {
   "cell_type": "markdown",
   "metadata": {},
   "source": [
    "We have seen so far that AWS provides services for storage as well as various types of databases. Here, we want to briefly review the compute services provided. In particular, we will go over the following services"
   ]
  },
  {
   "cell_type": "markdown",
   "metadata": {},
   "source": [
    "- EC2\n",
    "- Lightsail\n",
    "- ECS\n",
    "- Lambda"
   ]
  },
  {
   "cell_type": "markdown",
   "metadata": {},
   "source": [
    "### Elastic compute cloud"
   ]
  },
  {
   "cell_type": "markdown",
   "metadata": {},
   "source": [
    "<a href=\"https://docs.aws.amazon.com/whitepapers/latest/aws-overview/compute-services.html#amazon-ec2\">Elastic compute cloud</a> (EC2) is a web service that provides secure, resizable compute capacity in the cloud. Amazon EC2 has a relatively easy to use web interface that allows you to obtain and configure computing capacity easily. It provides us with complete control over the paid computing resources. Furthermore, Amazon EC2 reduces the time required to obtain and boot new server instances (called Amazon EC2 instances) to minutes, allowing you to quickly scale capacity, both up and down, as your computing requirements change (see <a href=\"https://docs.aws.amazon.com/whitepapers/latest/aws-overview/compute-services.html#auto-scaling\">EC2 Autoscaling</a>).  "
   ]
  },
  {
   "cell_type": "markdown",
   "metadata": {},
   "source": [
    "### Lightsail"
   ]
  },
  {
   "cell_type": "markdown",
   "metadata": {},
   "source": [
    "<a href=\"https://docs.aws.amazon.com/whitepapers/latest/aws-overview/compute-services.html#amazon-lightsail\">Amazon Lightsail</a> is designed to be the easiest way to launch and manage a virtual private server with AWS. Lightsail plans include everything you need to jumpstart your project – a virtual machine, SSD-based storage, data transfer, DNS management, and a static IP address – for a low, predictable price. "
   ]
  },
  {
   "cell_type": "markdown",
   "metadata": {},
   "source": [
    "### Elastic container service"
   ]
  },
  {
   "cell_type": "markdown",
   "metadata": {},
   "source": [
    "<a href=\"https://aws.amazon.com/ecs/\">Amazon Elastic Container Service</a> (ECS) is a fully managed container orchestration service that makes it easy for you to deploy, manage, and scale containerized applications. "
   ]
  },
  {
   "cell_type": "markdown",
   "metadata": {},
   "source": [
    "### AWS lambda\n"
   ]
  },
  {
   "cell_type": "markdown",
   "metadata": {},
   "source": [
    "<a href=\"https://docs.aws.amazon.com/whitepapers/latest/aws-overview/compute-services.html#aws-lambda\">AWS Lambda</a> lets you run code without provisioning or managing servers. You pay only for the compute time you consume—there is no charge when your code is not running. With Lambda, you can run code for virtually any type of application or backend service—all with zero administration. Just upload your code, and Lambda takes care of everything required to run and scale your code with high availability. You can set up your code to automatically trigger from other AWS services, or you can call it directly from any web or mobile app. See <a href=\"https://aws.amazon.com/getting-started/hands-on/run-serverless-code/\">Run a Serverless \"Hello, World!\" with AWS Lambda</a> for a beginners example."
   ]
  },
  {
   "cell_type": "markdown",
   "metadata": {},
   "source": [
    "Note, however, that AWS Lambda functions come with various memory constraints. For more information you can have a look at <a herf=\"https://docs.aws.amazon.com/lambda/latest/dg/gettingstarted-limits.html2\">Lambda quotas</a>"
   ]
  },
  {
   "cell_type": "markdown",
   "metadata": {},
   "source": [
    "## Summary"
   ]
  },
  {
   "cell_type": "markdown",
   "metadata": {},
   "source": [
    "In this post we reviewed a number of AWS compute services. We saw that AWS offers a variety of computing services ranging from fully managed compute instances (EC2) to serverless computing (AWS lambda). Arguably, AWS offers several other compute services within that spectrum. You can find more information at <a href=\"https://docs.aws.amazon.com/whitepapers/latest/aws-overview/compute-services.html\">Compute Services</a>."
   ]
  },
  {
   "cell_type": "markdown",
   "metadata": {},
   "source": [
    "## References"
   ]
  },
  {
   "cell_type": "markdown",
   "metadata": {},
   "source": [
    "1. <a href=\"https://docs.aws.amazon.com/whitepapers/latest/aws-overview/compute-services.html\">Compute services</a>.\n",
    "2. <a href=\"https://docs.aws.amazon.com/whitepapers/latest/aws-overview/compute-services.html#amazon-ec2\">Amazon EC2</a>.\n",
    "3. <a href=\"https://docs.aws.amazon.com/whitepapers/latest/aws-overview/compute-services.html#amazon-lightsail\">Amazon Lightsail</a>.\n",
    "4. <a href=\"https://aws.amazon.com/ecs/\">Amazon Elastic Container Service</a>. \n",
    "5. <a href=\"https://docs.aws.amazon.com/whitepapers/latest/aws-overview/compute-services.html#aws-lambda\">AWS Lambda</a>"
   ]
  }
 ],
 "metadata": {
  "kernelspec": {
   "display_name": "Python 3 (ipykernel)",
   "language": "python",
   "name": "python3"
  },
  "language_info": {
   "codemirror_mode": {
    "name": "ipython",
    "version": 3
   },
   "file_extension": ".py",
   "mimetype": "text/x-python",
   "name": "python",
   "nbconvert_exporter": "python",
   "pygments_lexer": "ipython3",
   "version": "3.10.6"
  }
 },
 "nbformat": 4,
 "nbformat_minor": 4
}
