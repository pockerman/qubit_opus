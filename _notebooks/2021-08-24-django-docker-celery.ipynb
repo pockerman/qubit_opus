{
 "cells": [
  {
   "cell_type": "markdown",
   "metadata": {},
   "source": [
    "# Django with Docker and Celery\n",
    "\n",
    "> \"How to containerize a  Django application with Docker and Celery\"\n",
    "\n",
    "- toc:true\n",
    "- branch: master\n",
    "- badges: false\n",
    "- comments: false\n",
    "- author: Alexandros Giavaras\n",
    "- categories: [programming, django, docker, celery, containers, python]"
   ]
  },
  {
   "cell_type": "markdown",
   "metadata": {},
   "source": [
    "### Acknowledgements"
   ]
  },
  {
   "cell_type": "markdown",
   "metadata": {},
   "source": [
    "This post is basically a mixture of these two post from <a href=\"https://testdriven.io/\">testdriven.io</a>;  <a href=\"https://testdriven.io/blog/dockerizing-django-with-postgres-gunicorn-and-nginx/\">Dockerizing Django with Postgres, Gunicorn, and Nginx</a> and <a href=\"https://testdriven.io/blog/django-celery-periodic-tasks/\">Handling Periodic Tasks in Django with Celery and Docker</a>. You should check them out if you want more details on what is happening."
   ]
  },
  {
   "cell_type": "markdown",
   "metadata": {},
   "source": [
    "## Overview "
   ]
  },
  {
   "cell_type": "markdown",
   "metadata": {},
   "source": [
    "In a <a href=\"#\">previous post</a> we saw how to use docker to containerize a small Django application. In this post we will add Celery into the mix.\n",
    "The code files for this post can be found at <a href=\"https://github.com/pockerman/demo_django_docker_celery\">demo_django_docker_celery </a>. "
   ]
  },
  {
   "cell_type": "markdown",
   "metadata": {},
   "source": [
    "## Django with Docker and Celery"
   ]
  },
  {
   "cell_type": "markdown",
   "metadata": {},
   "source": [
    "In order  to improve user experience, long-running processes should be run outside the normal HTTP request/response flow in a background process.\n",
    "Thus, the goal of this post is to develop a Django application that works in conjunction with Celery to handle long-running processes outside the normal request/response cycle.\n",
    "In particular, we will develop an application with the following cycle:"
   ]
  },
  {
   "cell_type": "markdown",
   "metadata": {},
   "source": [
    "1. The user starts a new task via a POST request to the server\n",
    "2. The server creates a new a task that is added to the queue and returns the tak's id back to the client.\n",
    "3. The client continues to poll the server to check the status of the task while the task itself is running in the background."
   ]
  },
  {
   "cell_type": "markdown",
   "metadata": {},
   "source": [
    "To get started, let's check the ```docker/docker-compose``` versions. "
   ]
  },
  {
   "cell_type": "markdown",
   "metadata": {},
   "source": [
    "```\n",
    "docker --version\n",
    "docker-compose --version\n",
    "```"
   ]
  },
  {
   "cell_type": "markdown",
   "metadata": {},
   "source": [
    "On my machine, these two return with the following information"
   ]
  },
  {
   "cell_type": "markdown",
   "metadata": {},
   "source": [
    "```\n",
    "Docker version 20.10.10, build b485636\n",
    "docker-compose version 1.25.0, build unknown\n",
    "```"
   ]
  },
  {
   "cell_type": "markdown",
   "metadata": {},
   "source": [
    "We will extend the Django project from the <a href=\"#\">previous post</a> by adding a new application called ```my_app```. The ```app``` directory structure now looks like the following"
   ]
  },
  {
   "cell_type": "markdown",
   "metadata": {},
   "source": [
    "```\n",
    "app/\n",
    "    Dockerfile\n",
    "    hello_world_django\n",
    "    manage.py\n",
    "    my_app\n",
    "    requirements.txt\n",
    "    templates\n",
    "```"
   ]
  },
  {
   "cell_type": "markdown",
   "metadata": {},
   "source": [
    "That is we added two new directories ```my_app``` and ```templates```. Furthermore, we need to update the ```requirements.txt``` file to "
   ]
  },
  {
   "cell_type": "markdown",
   "metadata": {},
   "source": [
    "```\n",
    "Django==3.0.7\n",
    "mysqlclient==2.0.3\n",
    "redis==3.5.3\n",
    "celery==4.4.7\n",
    "amqp==2.6.1\n",
    "```"
   ]
  },
  {
   "cell_type": "markdown",
   "metadata": {},
   "source": [
    "The next changes concern ```docker-compose.yml``` file in order to account for the new containers. This is shown below"
   ]
  },
  {
   "cell_type": "markdown",
   "metadata": {},
   "source": [
    "```\n",
    "version: '3.3'\n",
    "\n",
    "services:\n",
    "  web:\n",
    "    build: ./app\n",
    "    container_name: my_django_app_django_container\n",
    "    command: python manage.py runserver 0.0.0.0:8000\n",
    "    volumes:\n",
    "      - ./app/:/usr/src/app/\n",
    "    ports:\n",
    "      - 8000:8000\n",
    "    env_file:\n",
    "      - ./.env.dev\n",
    "    depends_on:\n",
    "      - db\n",
    "  db:\n",
    "    image: mysql:5.7\n",
    "    container_name: my_django_app_mysql_container\n",
    "    ports:\n",
    "      - '3306:3306'\n",
    "    environment:\n",
    "      MYSQL_DB: 'django_app_demo'\n",
    "      MYSQL_PASSWORD: 'password'\n",
    "      MYSQL_ROOT_PASSWORD: 'password'   \n",
    "  celery:\n",
    "    container_name: my_django_app_celery_container\n",
    "    build: ./app\n",
    "    command: celery worker --app=hello_world_django --loglevel=info\n",
    "    volumes:\n",
    "      - ./app/:/usr/src/app/\n",
    "    env_file:\n",
    "      - ./.env.dev\n",
    "    depends_on:\n",
    "      - web\n",
    "      - redis\n",
    "  redis:\n",
    "    image: redis:6-alpine\n",
    "    container_name: my_django_app_redis_container\n",
    "\n",
    "```"
   ]
  },
  {
   "cell_type": "markdown",
   "metadata": {},
   "source": [
    "Finally, we need to update the ```.env.dev``` file"
   ]
  },
  {
   "cell_type": "markdown",
   "metadata": {},
   "source": [
    "```\n",
    "DEBUG=1\n",
    "SECRET_KEY=foo\n",
    "DJANGO_ALLOWED_HOSTS=127.0.0.1 0.0.0.0 localhost [::1]\n",
    "SQL_ENGINE=django.db.backends.mysql\n",
    "SQL_DATABASE=django_app_demo\n",
    "SQL_USER=root\n",
    "SQL_PASSWORD=password\n",
    "SQL_HOST=db\n",
    "SQL_PORT=3306\n",
    "CELERY_BROKER_URL=redis://redis:6379/0\n",
    "CELERY_BACKEND_URL=redis://redis:6379/0\n",
    "```"
   ]
  },
  {
   "cell_type": "markdown",
   "metadata": {},
   "source": [
    "Notice that the ```SQL_HOST``` has the name of the MySQL service. Also we need to postfix with ```_URL``` the variables related to Celery. We can now build and run the containers"
   ]
  },
  {
   "cell_type": "markdown",
   "metadata": {},
   "source": [
    "```\n",
    "docker-compose up --build\n",
    "\n",
    "```"
   ]
  },
  {
   "cell_type": "markdown",
   "metadata": {},
   "source": [
    "However, the above will fail as we haven't created yet the database. To do so we can log on the MySQL container using"
   ]
  },
  {
   "cell_type": "markdown",
   "metadata": {},
   "source": [
    "```\n",
    "sudo docker exec -it my_django_app_mysql_container /bin/bash\n",
    "```"
   ]
  },
  {
   "cell_type": "markdown",
   "metadata": {},
   "source": [
    "whilst in the container, issue  "
   ]
  },
  {
   "cell_type": "markdown",
   "metadata": {},
   "source": [
    "```\n",
    "mysql -u root -p\n",
    "```"
   ]
  },
  {
   "cell_type": "markdown",
   "metadata": {},
   "source": [
    "In order to access the MySQL server running on the container and create the data base ```django_app_demo``` and grant access to the user ```root```. Once this is done, we need to run the Django migrations. In order to do so, log on the web application container "
   ]
  },
  {
   "cell_type": "markdown",
   "metadata": {},
   "source": [
    "```\n",
    "docker exec -it my_django_app_django_container /bin/bash\n",
    "```"
   ]
  },
  {
   "cell_type": "markdown",
   "metadata": {},
   "source": [
    "We are now ready to go. Navigate at  http://127.0.0.1:8000/ to view the application. Launch a task and poll the application for the result. A container's logs can be viewed with"
   ]
  },
  {
   "cell_type": "markdown",
   "metadata": {},
   "source": [
    "```\n",
    "docker my_django_app_django_container logs\n",
    "```"
   ]
  },
  {
   "cell_type": "markdown",
   "metadata": {},
   "source": [
    "## References"
   ]
  },
  {
   "cell_type": "markdown",
   "metadata": {},
   "source": [
    "1. <a href=\"https://semaphoreci.com/community/tutorials/dockerizing-a-python-django-web-application\">Dockerizing a Python Django Web Application</a>\n",
    "2. <a href=\"https://realpython.com/django-development-with-docker-compose-and-machine/\">Django Development with Docker Compose and Machine</a>\n",
    "3. <a href=\"https://nickjanetakis.com/blog/dockerize-a-flask-celery-and-redis-application-with-docker-compose\">Dockerize a Flask, Celery, and Redis Application with Docker Compose</a>\n",
    "4. <a href=\"https://testdriven.io/blog/dockerizing-django-with-postgres-gunicorn-and-nginx/\">Dockerizing Django with Postgres, Gunicorn, and Nginx</a>"
   ]
  }
 ],
 "metadata": {
  "kernelspec": {
   "display_name": "Python 3",
   "language": "python",
   "name": "python3"
  },
  "language_info": {
   "codemirror_mode": {
    "name": "ipython",
    "version": 3
   },
   "file_extension": ".py",
   "mimetype": "text/x-python",
   "name": "python",
   "nbconvert_exporter": "python",
   "pygments_lexer": "ipython3",
   "version": "3.8.10"
  }
 },
 "nbformat": 4,
 "nbformat_minor": 4
}
