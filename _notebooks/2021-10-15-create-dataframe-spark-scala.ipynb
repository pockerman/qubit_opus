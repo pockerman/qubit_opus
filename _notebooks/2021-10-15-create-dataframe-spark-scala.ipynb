{
 "cells": [
  {
   "cell_type": "markdown",
   "metadata": {},
   "source": [
    "# Apache Spark. Create a  DataFrame with Scala\n",
    "\n",
    "> 'Create a DataFrame with Scala'\n",
    "\n",
    "\n",
    "- toc:true\n",
    "- branch: master\n",
    "- badges: false\n",
    "- comments: false\n",
    "- author: Alexandros Giavaras\n",
    "- categories: [spark-dataframe, spark, scala, big-data, data-engineering, data-analysis]"
   ]
  },
  {
   "cell_type": "markdown",
   "metadata": {},
   "source": [
    "## Overview"
   ]
  },
  {
   "cell_type": "markdown",
   "metadata": {},
   "source": [
    "In the post <a href=\"https://pockerman.github.io/qubit_opus/spark/scala/big-data/data-engineering/data-analysis/2021/08/19/spark-rdd-scala.html\">Apache Spark. Create an RDD with Scala</a> we saw how to create an RDD within a Scala Spark application. RDDs however are considered as low level. In this post,  we will review how to create a ```DataFrame``` in Spark using the Scala API. "
   ]
  },
  {
   "cell_type": "markdown",
   "metadata": {},
   "source": [
    "You can find the example snippets at <a href=\"https://github.com/pockerman/comp_stats_scala\">Computational Statistics with Scala</a>."
   ]
  },
  {
   "cell_type": "markdown",
   "metadata": {},
   "source": [
    "##  Create a  DataFrame with Scala"
   ]
  },
  {
   "cell_type": "markdown",
   "metadata": {},
   "source": [
    "The Spark ```DataFrame``` is inspired by the equivalent pandas ```DataFrame```. A ```DataFrame``` in Spark is like a distributed in-memory table with named columns and schemas [1]. Similar to an RDD, a ```DataFrame``` is also immutable and Spark keeps a lineage of all the transformations. Thus, when we add or change the names and types of the columns, a new ```DataFrame``` is actually created."
   ]
  },
  {
   "cell_type": "markdown",
   "metadata": {},
   "source": [
    "A ```DataFrame``` is a structured data container. Given this, a number of advantages exist such as better performance and space efficiencies. The ```DataFrame``` is one of the high-level structured APIs and it is built on top of <a href=\"https://spark.apache.org/sql/\">Spark SQL engine</a> [1]."
   ]
  },
  {
   "cell_type": "markdown",
   "metadata": {},
   "source": [
    "The following code snippet shows how to create a ```DataFrame``` in Spark"
   ]
  },
  {
   "cell_type": "markdown",
   "metadata": {},
   "source": [
    "```\n",
    "package train.spark\n",
    "\n",
    "import org.apache.spark.sql.SparkSession\n",
    "\n",
    "object CreateDataFrame {\n",
    "\n",
    "  \n",
    "  def main(args: Array[String]) {\n",
    "    \n",
    "    val spark = SparkSession\n",
    "    .builder()\n",
    "    .appName(\"Spark DataFrame Demo\")\n",
    "    .getOrCreate()\n",
    "    \n",
    "    val csvFile = \"/home/alex/qi3/learn_scala/scripts/spark/data/train.csv\" \n",
    "    val df = spark.read.csv(csvFile)\n",
    "    \n",
    "    // print the schema\n",
    "    df.printSchema()\n",
    "   \n",
    "  }\n",
    "}\n",
    "```"
   ]
  },
  {
   "cell_type": "markdown",
   "metadata": {},
   "source": [
    "The output is "
   ]
  },
  {
   "cell_type": "markdown",
   "metadata": {},
   "source": [
    "```\n",
    "21/10/15 15:22:10 WARN Utils: Your hostname, LT-2R0620-101 resolves to a loopback address: 127.0.1.1; using 192.168.0.71 instead (on interface wlp58s0)\n",
    "21/10/15 15:22:10 WARN Utils: Set SPARK_LOCAL_IP if you need to bind to another address\n",
    "WARNING: An illegal reflective access operation has occurred\n",
    "WARNING: Illegal reflective access by org.apache.spark.unsafe.Platform (file:/home/alex/MySoftware/spark-3.0.1-bin-hadoop2.7/jars/spark-unsafe_2.12-3.0.1.jar) to constructor java.nio.DirectByteBuffer(long,int)\n",
    "WARNING: Please consider reporting this to the maintainers of org.apache.spark.unsafe.Platform\n",
    "WARNING: Use --illegal-access=warn to enable warnings of further illegal reflective access operations\n",
    "WARNING: All illegal access operations will be denied in a future release\n",
    "21/10/15 15:22:11 WARN NativeCodeLoader: Unable to load native-hadoop library for your platform... using builtin-java classes where applicable\n",
    "root\n",
    " |-- _c0: string (nullable = true)\n",
    " |-- _c1: string (nullable = true)\n",
    " |-- _c2: string (nullable = true)\n",
    " |-- _c3: string (nullable = true)\n",
    " |-- _c4: string (nullable = true)\n",
    "\n",
    "\n",
    "```"
   ]
  },
  {
   "cell_type": "markdown",
   "metadata": {},
   "source": [
    "### Specify a schema"
   ]
  },
  {
   "cell_type": "markdown",
   "metadata": {},
   "source": [
    "In the previous example, we saw how to create a ```DataFrame``` from a CSV file. However, in the returned ```DataFrame``` all columns are of type string which is not actual the case. One neat way to fix this is by declaring the underlying schema to be used. A schema in Spark defines the column names and the associated data types for a ```DataFrame``` [1]. There are certain advantages that we get when we define the schema up front [1]: "
   ]
  },
  {
   "cell_type": "markdown",
   "metadata": {},
   "source": [
    "- Spark does not have to infer the data types\n",
    "- We can detect errors early if the data doesn't match the specified schema\n",
    "- Spark does not have to create an extra job in order to read a portion of the file to ascertain the schema"
   ]
  },
  {
   "cell_type": "markdown",
   "metadata": {},
   "source": [
    "Let's see how we can specify a schema. We have two way for doing so [1]: "
   ]
  },
  {
   "cell_type": "markdown",
   "metadata": {},
   "source": [
    "- Define it programmatically \n",
    "- Use a data definition language or DDL"
   ]
  },
  {
   "cell_type": "markdown",
   "metadata": {},
   "source": [
    "The code snippet below shows the first approach."
   ]
  },
  {
   "cell_type": "markdown",
   "metadata": {},
   "source": [
    "```\n",
    "package train.spark\n",
    "\n",
    "import org.apache.spark.sql.SparkSession\n",
    "import org.apache.spark.sql.SQLContext\n",
    "import org.apache.spark.sql.types._\n",
    "\n",
    "import org.apache.spark.SparkContext\n",
    "import org.apache.spark.SparkContext._\n",
    "import org.apache.spark.SparkConf\n",
    "\n",
    "\n",
    "object CreateDataFrame {\n",
    "\n",
    "  \n",
    "  def main(args: Array[String]) {\n",
    "  \n",
    "    val csvFile = \"/home/alex/qi3/learn_scala/scripts/spark/data/train.csv\" \n",
    "    val appName: String = \"Spark DataFrame Demo\"\n",
    "    \n",
    "    val conf = new SparkConf().setAppName(appName)\n",
    "    val sc = new SparkContext(conf)\n",
    "    val sqlContext = new SQLContext(sc)\n",
    "    \n",
    "    val customSchema = StructType(Array(\n",
    "\t\t\tStructField(\"mu-1\", DoubleType, false),\n",
    "  \t\t\tStructField(\"mu-2\", DoubleType, false),\n",
    "\t  \t\tStructField(\"label\", IntegerType, false)))\n",
    "    \n",
    "    // specify a schema\n",
    "    val df_schema = sqlContext.read.format(\"csv\")\n",
    "    \t\t\t  .option(\"delimiter\",\",\")\n",
    "    \t\t\t  .schema(customSchema)\n",
    "    \t\t\t  .load(csvFile)\n",
    "    \t\t\t  \n",
    "    df_schema.printSchema()\t\n",
    "    \n",
    "    df_schema.groupBy(\"label\").count().show()\n",
    "    df_schema.show(5)\n",
    "   \n",
    "  }\n",
    "}\n",
    "```"
   ]
  },
  {
   "cell_type": "markdown",
   "metadata": {},
   "source": [
    "```\n",
    "root\n",
    " |-- mu-1: double (nullable = true)\n",
    " |-- mu-2: double (nullable = true)\n",
    " |-- label: integer (nullable = true)\n",
    "\n",
    "+-----+-----+\n",
    "|label|count|\n",
    "+-----+-----+\n",
    "| null|    1|\n",
    "|    1|  185|\n",
    "|    3|  185|\n",
    "|    4|  185|\n",
    "|    2|  185|\n",
    "|    0|  185|\n",
    "+-----+-----+\n",
    "\n",
    "+-----+-----+-----+\n",
    "| mu-1| mu-2|label|\n",
    "+-----+-----+-----+\n",
    "| null| null| null|\n",
    "|22.91|28.54|    0|\n",
    "|17.26|30.72|    0|\n",
    "|17.05|31.08|    0|\n",
    "|24.05|26.27|    0|\n",
    "+-----+-----+-----+\n",
    "only showing top 5 rows\n",
    "\n",
    "```"
   ]
  },
  {
   "cell_type": "markdown",
   "metadata": {},
   "source": [
    "## Summary"
   ]
  },
  {
   "cell_type": "markdown",
   "metadata": {},
   "source": [
    "## References"
   ]
  },
  {
   "cell_type": "markdown",
   "metadata": {},
   "source": [
    "1.  Jules S. Damji, Brooke Wenig, Tathagata Das, Denny Lee, ```Learning Spark. Lighting-fast data analytics```, O'Reilly, 2nd Edition."
   ]
  }
 ],
 "metadata": {
  "kernelspec": {
   "display_name": "Python 3",
   "language": "python",
   "name": "python3"
  },
  "language_info": {
   "codemirror_mode": {
    "name": "ipython",
    "version": 3
   },
   "file_extension": ".py",
   "mimetype": "text/x-python",
   "name": "python",
   "nbconvert_exporter": "python",
   "pygments_lexer": "ipython3",
   "version": "3.8.10"
  }
 },
 "nbformat": 4,
 "nbformat_minor": 4
}
