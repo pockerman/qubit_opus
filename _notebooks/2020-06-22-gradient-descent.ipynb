{
 "cells": [
  {
   "cell_type": "markdown",
   "metadata": {},
   "source": [
    "# Gradient Descent\n",
    "\n",
    "> \"Brief introduction to gradient descent algorithm\"\n",
    "\n",
    "- toc:false\n",
    "- branch: master\n",
    "- badges: false\n",
    "- comments: false\n",
    "- author: Alexandros Giavaras\n",
    "- categories: [gradient-descent, unconstrained-optimization, machine-learning, algorithms, numerics]"
   ]
  },
  {
   "cell_type": "markdown",
   "metadata": {},
   "source": [
    "Perhaps the simplest algorithm for uncostrained optimization is <a href=\"https://en.wikipedia.org/wiki/Gradient_descent\"> gradient descent</a> also known as steepest descent. Consider the following function [1]"
   ]
  },
  {
   "cell_type": "markdown",
   "metadata": {},
   "source": [
    "$$f(\\theta_1, \\theta_2) = \\frac{1}{2}(\\theta_{1}^2 - \\theta_2)^2 + \\frac{1}{2}(\\theta_1 -1)^2$$"
   ]
  },
  {
   "cell_type": "markdown",
   "metadata": {},
   "source": [
    "We are interested in finding $\\theta_1, \\theta_2$ that minimize $f$. Gradient descent is an iterative algorithm that uses the gradient of the function in order to update the parameters. The update rule is "
   ]
  },
  {
   "cell_type": "markdown",
   "metadata": {},
   "source": [
    "$$\\boldsymbol{\\theta}_k = \\boldsymbol{\\theta}_{k-1} - \\eta \\nabla f|_{\\boldsymbol{\\theta}_{k-1}} $$"
   ]
  },
  {
   "cell_type": "markdown",
   "metadata": {},
   "source": [
    "$\\eta$ is the so called learning rate and tunes how fast we move to the direction of the gradient. A small $\\eta$ slows down convergence whilst a large value may not allow convergence of the algorithm. This is shown in the two figures below: "
   ]
  },
  {
   "cell_type": "markdown",
   "metadata": {},
   "source": [
    "![](my_icons/gd_1.png)\n",
    "*Figure 1. Gradient descent with eta 0.1.*"
   ]
  },
  {
   "cell_type": "markdown",
   "metadata": {},
   "source": [
    "![](my_icons/gd_2.png)\n",
    "*Figure 1. Gradient descent with eta 0.6.*"
   ]
  },
  {
   "cell_type": "markdown",
   "metadata": {},
   "source": [
    "## <a name=\"refs\"></a> References"
   ]
  },
  {
   "cell_type": "markdown",
   "metadata": {},
   "source": [
    "1. Kevin P. Murphy, ```Machine Learning A Probabilistic Perspective```, The MIT Press"
   ]
  }
 ],
 "metadata": {
  "kernelspec": {
   "display_name": "Python 3",
   "language": "python",
   "name": "python3"
  },
  "language_info": {
   "codemirror_mode": {
    "name": "ipython",
    "version": 3
   },
   "file_extension": ".py",
   "mimetype": "text/x-python",
   "name": "python",
   "nbconvert_exporter": "python",
   "pygments_lexer": "ipython3",
   "version": "3.8.5"
  }
 },
 "nbformat": 4,
 "nbformat_minor": 4
}
