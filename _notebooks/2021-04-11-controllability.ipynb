{
 "cells": [
  {
   "cell_type": "markdown",
   "metadata": {},
   "source": [
    "# Controllability \n",
    "\n",
    "> \"Overview of controllability for linear dynamic systems\"\n",
    "\n",
    "- toc:true\n",
    "- branch: master\n",
    "- badges: false\n",
    "- comments: false\n",
    "- author: Alexandros Giavaras\n",
    "- categories: [dynamical-systems, linear-systems, control, controllability]"
   ]
  },
  {
   "cell_type": "markdown",
   "metadata": {},
   "source": [
    "## <a name=\"overview\"></a> Overview"
   ]
  },
  {
   "cell_type": "markdown",
   "metadata": {},
   "source": [
    "When we want to control a dynamical system, the natural question that arises is to what extent can we achive this? The term controllability is used to describe whether a systme is controllable altogether.  We will see that whether a system is controllable or not is determined completely by the <a href=\"https://en.wikipedia.org/wiki/Controllability\">controllability matrix</a> [1]"
   ]
  },
  {
   "cell_type": "markdown",
   "metadata": {},
   "source": [
    "## <a name=\"ekf\"></a> Controllability "
   ]
  },
  {
   "cell_type": "markdown",
   "metadata": {},
   "source": [
    "Recall that we deal with linear systems of the form "
   ]
  },
  {
   "cell_type": "markdown",
   "metadata": {},
   "source": [
    "$$\\frac{d\\mathbf{x}}{dt} = \\mathbf{A}\\mathbf{x} + \\mathbf{B}\\mathbf{u}, ~~ \\mathbf{y} = \\mathbf{C}\\mathbf{x} + \\mathbf{D}\\mathbf{u}$$"
   ]
  },
  {
   "cell_type": "markdown",
   "metadata": {},
   "source": [
    "We can understand whether the linear system above is controllable or not by examing the controllability matrix $\\mathbf{\\cal{C}}$. In particular, the column space of that matrix. This matrix is defined as follows"
   ]
  },
  {
   "cell_type": "markdown",
   "metadata": {},
   "source": [
    "$$\\mathbf{\\cal{C}} = \\begin{bmatrix}\\mathbf{B} && \\mathbf{AB} && \\mathbf{A}^2\\mathbf{B} && \\dots && \\mathbf{A}^{n-1}\\mathbf{B} \\end{bmatrix}$$"
   ]
  },
  {
   "cell_type": "markdown",
   "metadata": {},
   "source": [
    "Where $n$ is the number of state variables. If the controllability matrix has $n$ linearly independent columns, then the system under consideration is controllable [1]. Note that this does not mean that the columns of $\\mathbf{\\cal{C}}$ should be linearly independent. All that we require, is that we can find $n$ linearly independent columns (see example 2 below).  Let's see two examples taken from [1]. "
   ]
  },
  {
   "cell_type": "markdown",
   "metadata": {},
   "source": [
    "### <a name=\"sub_sec_1\"></a> Example 1 "
   ]
  },
  {
   "cell_type": "markdown",
   "metadata": {},
   "source": [
    "Let's consider the following system"
   ]
  },
  {
   "cell_type": "markdown",
   "metadata": {},
   "source": [
    "$$\\frac{d}{dt}\\begin{bmatrix}x_1 \\\\ x_2 \\end{bmatrix} = \\begin{bmatrix}1 && 0 \\\\ 0 && 2 \\end{bmatrix}\\begin{bmatrix}x_1 \\\\ x_2 \\end{bmatrix} + \\begin{bmatrix}0 \\\\ 1 \\end{bmatrix} u$$"
   ]
  },
  {
   "cell_type": "markdown",
   "metadata": {},
   "source": [
    "Immediatelly, we can see that the system is not controllable. This is because the two state variables are decoupled and the control input affects only $x_2$. The controllability matrix is "
   ]
  },
  {
   "cell_type": "markdown",
   "metadata": {},
   "source": [
    "$$\\mathbf{\\cal{C}} = \\begin{bmatrix}0 && 0 \\\\ 1 && 2 \\end{bmatrix} $$"
   ]
  },
  {
   "cell_type": "markdown",
   "metadata": {},
   "source": [
    "and we can see that the columns of that matrix are not independent."
   ]
  },
  {
   "cell_type": "markdown",
   "metadata": {},
   "source": [
    "### <a name=\"sub_sec_1\"></a> Example 2"
   ]
  },
  {
   "cell_type": "markdown",
   "metadata": {},
   "source": [
    "If we include a control signal for the both state variables, we can turn this system into a controllable one. The new system now is"
   ]
  },
  {
   "cell_type": "markdown",
   "metadata": {},
   "source": [
    "$$\\frac{d}{dt}\\begin{bmatrix}x_1 \\\\ x_2 \\end{bmatrix} = \\begin{bmatrix}1 && 0 \\\\ 0 && 2 \\end{bmatrix}\\begin{bmatrix}x_1 \\\\ x_2 \\end{bmatrix} + \\begin{bmatrix}1 && 0\\\\0 && 1 \\end{bmatrix}\\begin{bmatrix} u_1 \\\\ u_2 \\end{bmatrix} u$$"
   ]
  },
  {
   "cell_type": "markdown",
   "metadata": {},
   "source": [
    "By including a control signal for bith state variables, we can control them independently. The controllability matrix now becomes [1]"
   ]
  },
  {
   "cell_type": "markdown",
   "metadata": {},
   "source": [
    "$$\\mathbf{\\cal{C}} = \\begin{bmatrix}1 && 0 && 1 && 0 \\\\ 0 && 1 && 0 && 2 \\end{bmatrix} $$"
   ]
  },
  {
   "cell_type": "markdown",
   "metadata": {},
   "source": [
    "and we can verify that the columns of this matrix do span $\\mathbb{R}^2$. Note that the columns of the matrix above are not linearly independent. Indeed the third column is a copy of the first and the fourth is a product of the second. However, the first two columns do span $\\mathbb{R}^2$."
   ]
  },
  {
   "cell_type": "markdown",
   "metadata": {},
   "source": [
    "### <a name=\"sub_sec_3\"></a> Three equivalent conditions"
   ]
  },
  {
   "cell_type": "markdown",
   "metadata": {},
   "source": [
    "The span of the columns of matrix $\\mathbf{\\cal{C}}$ form a <a href=\"https://en.wikipedia.org/wiki/Krylov_subspace\">Krylov subspace</a> [1]. The space determines which state vectors can be controlled. Hence, controllability implies two things [1]"
   ]
  },
  {
   "cell_type": "markdown",
   "metadata": {},
   "source": [
    "- Eigenvalue placement\n",
    "- Any state vector $\\boldsymbol{\\xi} \\in \\mathbb{R}^n$ is reachable with some actuation signal"
   ]
  },
  {
   "cell_type": "markdown",
   "metadata": {},
   "source": [
    "The following three conditions  are equivalent [1]"
   ]
  },
  {
   "cell_type": "markdown",
   "metadata": {},
   "source": [
    "- Controllability\n",
    "- Arbitrary eigenvalue placement\n",
    "- Reachability of $\\mathbb{R}^n$ "
   ]
  },
  {
   "cell_type": "markdown",
   "metadata": {},
   "source": [
    "We already saw what controllability means in terms of the controllability matrix. Arbitrary eigenvalue placement means that we can design the eigenvalues of the system through the choice of the feedback signal $\\mathbf{u}$. In particular, for $\\mathbf{u} = -\\mathbf{K}\\mathbf{x}$, the system becomes"
   ]
  },
  {
   "cell_type": "markdown",
   "metadata": {},
   "source": [
    "$$\\frac{d\\mathbf{x}}{dt} = (\\mathbf{A} - \\mathbf{B}\\mathbf{K})\\mathbf{x}$$"
   ]
  },
  {
   "cell_type": "markdown",
   "metadata": {},
   "source": [
    "The matrix $\\mathbf{K}$ is called the gain matrix. There are various methods to design this matrix. Finally, reachability in practical terms means that we can steer the system to any arbitrary state with some actuation signal, or, conversely, there exists an actuation signal so that the system can be pushed to an arbitrary state $\\boldsymbol{\\xi} \\in \\mathbb{R}^n$ [1]."
   ]
  },
  {
   "cell_type": "markdown",
   "metadata": {},
   "source": [
    "## <a name=\"refs\"></a> References"
   ]
  },
  {
   "cell_type": "markdown",
   "metadata": {},
   "source": [
    "1. Steven L. Brunton, J. Nathan Kutz, ```Data-Driven Science and Engineering. Machine Learning, Dynamical System and Control```, Cambridge University Press."
   ]
  }
 ],
 "metadata": {
  "kernelspec": {
   "display_name": "Python 3",
   "language": "python",
   "name": "python3"
  },
  "language_info": {
   "codemirror_mode": {
    "name": "ipython",
    "version": 3
   },
   "file_extension": ".py",
   "mimetype": "text/x-python",
   "name": "python",
   "nbconvert_exporter": "python",
   "pygments_lexer": "ipython3",
   "version": "3.8.5"
  }
 },
 "nbformat": 4,
 "nbformat_minor": 4
}
