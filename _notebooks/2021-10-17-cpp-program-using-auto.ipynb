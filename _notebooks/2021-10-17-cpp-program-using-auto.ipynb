{
 "cells": [
  {
   "cell_type": "markdown",
   "metadata": {},
   "source": [
    "# C++ Programming. Using the auto keyword\n",
    "\n",
    "> 'How to use the auto keyword'\n",
    "\n",
    "- toc:true\n",
    "- branch: master\n",
    "- badges: false\n",
    "- comments: false\n",
    "- author: Alexandros Giavaras\n",
    "- categories: [programming, c++]"
   ]
  },
  {
   "cell_type": "markdown",
   "metadata": {},
   "source": [
    "## Overview"
   ]
  },
  {
   "cell_type": "markdown",
   "metadata": {},
   "source": [
    "The ```auto``` keyword changed its semantics starting from the C++11 standard. In this notebook, we will review its new semantics and examine its new flavors.  "
   ]
  },
  {
   "cell_type": "markdown",
   "metadata": {},
   "source": [
    "## Using the auto keyword"
   ]
  },
  {
   "cell_type": "markdown",
   "metadata": {},
   "source": [
    "The ```auto``` keyword changed its semantics starting from the C++11 standard. From C++11 onwards, the semantic of the keyword is \n",
    "automatic type deduction. In fact, from C++11 onwards, we have the following different flavors \n",
    "of the keyword [1]:\n",
    "\n"
   ]
  },
  {
   "cell_type": "markdown",
   "metadata": {},
   "source": [
    "- ```auto```\n",
    "- ```const auto&```\n",
    "- ```auto&```\n",
    "- ```auto&&```"
   ]
  },
  {
   "cell_type": "markdown",
   "metadata": {},
   "source": [
    "Furthermore, we have ```decltype(auto)```. This post is a short guide on how to use ```auto``` and its various flavors."
   ]
  },
  {
   "cell_type": "markdown",
   "metadata": {},
   "source": [
    "The first thing to note about ```auto``` is that it ise used for automatic type deduction. This means that we can write code like the following:"
   ]
  },
  {
   "cell_type": "markdown",
   "metadata": {},
   "source": [
    "```\n",
    "...\n",
    "// before c++11\n",
    "int x = 5;\n",
    "\n",
    "//from c++11\n",
    "auto x = 5;\n",
    "...\n",
    "```"
   ]
  },
  {
   "cell_type": "markdown",
   "metadata": {},
   "source": [
    "Thus, using ```auto``` may help us to write cleaner and less cluttered code. This is emphasized in particular when we consider function signatures. Compare the\n",
    "code snippet below (example taken from [1]):"
   ]
  },
  {
   "cell_type": "markdown",
   "metadata": {},
   "source": [
    "```\n",
    "class Foo\n",
    "{\n",
    "\n",
    "int value()const{..}\n",
    "const int& cref_value()const{...}\n",
    "int& ref_value(){...}\n",
    "\n",
    "};\n",
    "```"
   ]
  },
  {
   "cell_type": "markdown",
   "metadata": {},
   "source": [
    "with the following code snippet "
   ]
  },
  {
   "cell_type": "markdown",
   "metadata": {},
   "source": [
    "```\n",
    "class Foo\n",
    "{\n",
    "\n",
    "auto value()const{..}\n",
    "auto& cref_value()const{...}\n",
    "auto& ref_value(){...}\n",
    "\n",
    "};\n",
    "```"
   ]
  },
  {
   "cell_type": "markdown",
   "metadata": {},
   "source": [
    "The latter API is cleaner and simpler.The type returned is deduced by the compiler for us."
   ]
  },
  {
   "cell_type": "markdown",
   "metadata": {},
   "source": [
    "---\n",
    "**Remark**\n",
    "\n",
    "Althgough to a large extent using ```auto``` simplifies our code, overusing it can have the opposite result.\n",
    "\n",
    "----\n"
   ]
  },
  {
   "cell_type": "markdown",
   "metadata": {},
   "source": [
    "One other advantage of using ```auto``` is that we cannot leave the variable uninitialized. That is the following fails to compile."
   ]
  },
  {
   "cell_type": "markdown",
   "metadata": {},
   "source": [
    "```\n",
    "...\n",
    "auto x;\n",
    "...\n",
    "```"
   ]
  },
  {
   "cell_type": "markdown",
   "metadata": {},
   "source": [
    "This is reasonable as the compiler uses the right hand side value to deduce the type and hence the memory size it has to allocate. If there isn't a value there is nothing\n",
    "to deduce from. Thus, uninitialized variables are not allowed when using ```auto``` and the good news are that the compilers let us know the exact line number in our code that this\n",
    "occurs. "
   ]
  },
  {
   "cell_type": "markdown",
   "metadata": {},
   "source": [
    "## References"
   ]
  },
  {
   "cell_type": "markdown",
   "metadata": {},
   "source": [
    "1. Bjorn Andrist, Viktor Sehr, ```C++ High Performance, 2nd Edition```, Packt Publishing"
   ]
  }
 ],
 "metadata": {
  "kernelspec": {
   "display_name": "Python 3",
   "language": "python",
   "name": "python3"
  },
  "language_info": {
   "codemirror_mode": {
    "name": "ipython",
    "version": 3
   },
   "file_extension": ".py",
   "mimetype": "text/x-python",
   "name": "python",
   "nbconvert_exporter": "python",
   "pygments_lexer": "ipython3",
   "version": "3.8.10"
  }
 },
 "nbformat": 4,
 "nbformat_minor": 4
}
