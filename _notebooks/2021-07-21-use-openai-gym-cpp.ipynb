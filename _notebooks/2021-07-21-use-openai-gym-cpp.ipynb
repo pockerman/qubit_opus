{
 "cells": [
  {
   "cell_type": "markdown",
   "metadata": {},
   "source": [
    "# Use OpenAI Gym environments from C++\n",
    "\n",
    "\n",
    "> \"how to interact with an OpenAI Gym environment from C++ \"\n",
    "\n",
    "- toc:true\n",
    "- branch: master\n",
    "- badges: false\n",
    "- comments: false\n",
    "- author: Alexandros Giavaras\n",
    "- categories: [programming, OpenAI-Gym, reinforcement-learning, C++, Python, boost-python]"
   ]
  },
  {
   "cell_type": "markdown",
   "metadata": {},
   "source": [
    "## <a name=\"overview\"></a> Overview"
   ]
  },
  {
   "cell_type": "markdown",
   "metadata": {},
   "source": [
    "OpenAI-Gym is one of the most commonly used of Python packages used when developing reinforcement learning algorithms. In this post, we use the ```boost::python``` library to interact with an OpenAI-Gym environment  from a C++ program. "
   ]
  },
  {
   "cell_type": "markdown",
   "metadata": {},
   "source": [
    "## Use OpenAI Gym environments from C++"
   ]
  },
  {
   "cell_type": "markdown",
   "metadata": {},
   "source": [
    "In this post we use the <a href=\"https://www.boost.org/doc/libs/1_76_0/libs/python/doc/html/index.html\">boost::python</a> library in order to interact with an OpenAI-Gym environment. Specifically, we will interact with the ```FrozenLake-v0``` environment. The exposition here is meant to be minimal rather than exhaustive."
   ]
  },
  {
   "cell_type": "markdown",
   "metadata": {},
   "source": [
    "In order to use ```boost::python``` we need to include it."
   ]
  },
  {
   "cell_type": "markdown",
   "metadata": {},
   "source": [
    "```\n",
    "#include <boost/python.hpp>\n",
    "```"
   ]
  },
  {
   "cell_type": "markdown",
   "metadata": {},
   "source": [
    "Before starting the interaction with the Python interpreter, we need to initialize it. This is done by calling  "
   ]
  },
  {
   "cell_type": "markdown",
   "metadata": {},
   "source": [
    "```\n",
    "Py_Initialize()\n",
    "```"
   ]
  },
  {
   "cell_type": "markdown",
   "metadata": {},
   "source": [
    "We next import the module of interest that is ```gym```. We obtain a ```namespace``` so that we can use it to obtain the created environment in the interpreter. This is done in the following line"
   ]
  },
  {
   "cell_type": "markdown",
   "metadata": {},
   "source": [
    "```\n",
    "auto gym_namespace = gym_module.attr(\"__dict__\");\n",
    "```"
   ]
  },
  {
   "cell_type": "markdown",
   "metadata": {},
   "source": [
    "We can extract various attributes. For instance, the module name as shown below"
   ]
  },
  {
   "cell_type": "markdown",
   "metadata": {},
   "source": [
    "```\n",
    "std::cout<<\"Module name \"<<boost::python::extract<const char*>(gym_namespace[\"__name__\"])<<std::endl;\n",
    "```"
   ]
  },
  {
   "cell_type": "markdown",
   "metadata": {},
   "source": [
    "The line of interest is where we create the environment in the interpreter and get a pointer back in the C++ program"
   ]
  },
  {
   "cell_type": "markdown",
   "metadata": {},
   "source": [
    "```\n",
    " // create an environment\n",
    "auto ignored = boost::python::exec(\"import gym \\n\"\n",
    "                                   \"world = gym.make('FrozenLake-v0', is_slippery=True) \\n\"\n",
    "                                   \"world = world.unwrapped\", gym_namespace);\n",
    "\n",
    "// get the created world\n",
    "auto world =  boost::python::extract<boost::python::api::object>(gym_namespace[\"world\"]);\n",
    "```"
   ]
  },
  {
   "cell_type": "markdown",
   "metadata": {},
   "source": [
    "Observe how we access the environment as an entry in the ```gym_namespace``` we created above. Once we have an instance of the environment, we can query it as shown below"
   ]
  },
  {
   "cell_type": "markdown",
   "metadata": {},
   "source": [
    "```\n",
    "auto world_dict = boost::python::extract<boost::python::dict>(world().attr(\"__dict__\"));\n",
    "\n",
    "auto observation_space = boost::python::extract<boost::python::api::object>(world_dict()[\"observation_space\"]);\n",
    "std::cout<<\"Number of states \"<<boost::python::extract<int>(observation_space().attr(\"__dict__\")[\"n\"])          <<std::endl;\n",
    "\n",
    "auto action_space = boost::python::extract<boost::python::api::object>(world_dict()[\"action_space\"]);\n",
    "std::cout<<\"Number of actions \"<<boost::python::extract<int>(action_space().attr(\"__dict__\")[\"n\"])<<std::endl;\n",
    "```"
   ]
  },
  {
   "cell_type": "markdown",
   "metadata": {},
   "source": [
    "or execute an action"
   ]
  },
  {
   "cell_type": "markdown",
   "metadata": {},
   "source": [
    "```\n",
    "// create an environment\n",
    "boost::python::exec(\"observation = world.reset()\", gym_namespace);\n",
    "\n",
    "// the observation\n",
    "auto observation =  boost::python::extract<int>(gym_namespace[\"observation\"]);\n",
    "std::cout<<\"Observation after reset=\"<<observation<<std::endl;\n",
    "```"
   ]
  },
  {
   "cell_type": "markdown",
   "metadata": {},
   "source": [
    "The full driver program is shown below."
   ]
  },
  {
   "cell_type": "markdown",
   "metadata": {},
   "source": [
    "```\n",
    "#include <boost/python.hpp>\n",
    "#include <iostream>\n",
    "\n",
    "int main(){\n",
    "\n",
    "    try\n",
    "    {\n",
    "        std::cout<<\"Starting the interpreter...\"<<std::endl;\n",
    "\n",
    "        Py_Initialize();\n",
    "\n",
    "        std::cout<<\"Importing module...\"<<std::endl;\n",
    "        auto gym_module = boost::python::import(\"gym\");\n",
    "        auto gym_namespace = gym_module.attr(\"__dict__\");\n",
    "\n",
    "        std::cout<<\"Module name \"<<boost::python::extract<const char*>(gym_namespace[\"__name__\"])<<std::endl;\n",
    "\n",
    "        std::cout<<\"Creating the environment...\"<<std::endl;\n",
    "\n",
    "        // create an environment\n",
    "        auto ignored = boost::python::exec(\"import gym \\n\"\n",
    "                                           \"world = gym.make('FrozenLake-v0', is_slippery=True) \\n\"\n",
    "                                           \"world = world.unwrapped\", gym_namespace);\n",
    "\n",
    "        // get the created world\n",
    "        auto world =  boost::python::extract<boost::python::api::object>(gym_namespace[\"world\"]);\n",
    "\n",
    "        auto world_dict = boost::python::extract<boost::python::dict>(world().attr(\"__dict__\"));\n",
    "\n",
    "        // uncomment this to see the attributes\n",
    "        /*auto keys = boost::python::list(world_dict().keys());\n",
    "\n",
    "        for(auto i=0; i<boost::python::len(keys); ++i){\n",
    "\n",
    "            std::cout<<boost::python::extract<std::string>(boost::python::object(keys[i]))()<<std::endl;;\n",
    "        }*/\n",
    "\n",
    "        auto observation_space = boost::python::extract<boost::python::api::object>(world_dict()[\"observation_space\"]);\n",
    "        std::cout<<\"Number of states \"<<boost::python::extract<int>(observation_space().attr(\"__dict__\")[\"n\"])<<std::endl;\n",
    "\n",
    "        auto action_space = boost::python::extract<boost::python::api::object>(world_dict()[\"action_space\"]);\n",
    "        std::cout<<\"Number of actions \"<<boost::python::extract<int>(action_space().attr(\"__dict__\")[\"n\"])<<std::endl;\n",
    "        \n",
    "        // create an environment\n",
    "        boost::python::exec(\"observation = world.reset()\", gym_namespace);\n",
    "\n",
    "        // the observation\n",
    "        auto observation =  boost::python::extract<int>(gym_namespace[\"observation\"]);\n",
    "        std::cout<<\"Observation after reset=\"<<observation<<std::endl;\n",
    "    }\n",
    "    catch(boost::python::error_already_set const &)\n",
    "    {\n",
    "        PyErr_Print();\n",
    "    }\n",
    "\n",
    "    std::cout<<\"Finilize...\"<<std::endl;\n",
    "    return 0;\n",
    "}\n",
    "\n",
    "```"
   ]
  },
  {
   "cell_type": "markdown",
   "metadata": {},
   "source": [
    "Running the program gives the following output"
   ]
  },
  {
   "cell_type": "markdown",
   "metadata": {},
   "source": [
    "```\n",
    "Starting the interpreter...\n",
    "Importing module...\n",
    "Module name gym\n",
    "Creating the environment...\n",
    "Number of states 16\n",
    "Number of actions 4\n",
    "Observation after reset=0\n",
    "Finilize...\n",
    "\n",
    "```"
   ]
  },
  {
   "cell_type": "markdown",
   "metadata": {},
   "source": [
    "Although ```boost::python``` handles a lot of the low level details needed for interacting with Python, the above program is rather dense and  for more complicated scenarios, e.g. implementing A2C on an Atari environment, things will definitely get more complicated. One way to handle this is to write own wrappers that hide most of the boilerplate code.\n"
   ]
  },
  {
   "cell_type": "markdown",
   "metadata": {},
   "source": [
    "## Buidling the program with CMake"
   ]
  },
  {
   "cell_type": "markdown",
   "metadata": {},
   "source": [
    "As an aside here is the ```CMakeLists.txt``` to use in order to build the program above"
   ]
  },
  {
   "cell_type": "markdown",
   "metadata": {},
   "source": [
    "```\n",
    "CMAKE_MINIMUM_REQUIRED(VERSION 3.6)\n",
    "\n",
    "SET(SOURCE example_1.cpp)\n",
    "SET(EXECUTABLE  example_1)\n",
    "\n",
    "# find Boost\n",
    "FIND_PACKAGE(Boost 1.65.0 REQUIRED COMPONENTS python system)\n",
    "\n",
    "if(Boost_FOUND)\n",
    "  if(Boost_LIBRARY_DIR)\n",
    "    MESSAGE( STATUS \"Boost_LIBRARY_DIR not empty using it: ${Boost_LIBRARY_DIR}\" )\n",
    "  elseif(BOOST_LIBRARYDIR)\n",
    "      MESSAGE( STATUS \"Boost_LIBRARY_DIR empty, but BOOST_LIBRARYDIR is set. Setting Boost_LIBRARY_DIR to: ${BOOST_LIBRARYDIR}\" )\n",
    "      set(Boost_LIBRARY_DIR ${BOOST_LIBRARYDIR})\n",
    "  elseif(Boost_LIBRARY_DIRS)\n",
    "      MESSAGE( STATUS \"Boost_LIBRARY_DIR empty, but Boost_LIBRARY_DIRS is set. Setting Boost_LIBRARY_DIR to: ${Boost_LIBRARY_DIRS}\" )\n",
    "      set(Boost_LIBRARY_DIR ${Boost_LIBRARY_DIRS})\n",
    "  elseif(Boost_LIBRARY_DIR_RELEASE)\n",
    "      MESSAGE( STATUS \"Boost_LIBRARY_DIR empty, but Boost_LIBRARY_DIR_RELEASE is set. Setting Boost_LIBRARY_DIR to: ${Boost_LIBRARY_DIR_RELEASE}\" )\n",
    "      set(Boost_LIBRARY_DIR ${Boost_LIBRARY_DIR_RELEASE})\n",
    "  elseif(Boost_LIBRARY_DIR_DEBUG)\n",
    "      MESSAGE( STATUS \"Boost_LIBRARY_DIR empty, but Boost_LIBRARY_DIR_DEBUG is set. Setting Boost_LIBRARY_DIR to: ${Boost_LIBRARY_DIR_RELEASE}\" )\n",
    "      set(Boost_LIBRARY_DIR ${Boost_LIBRARY_DIR_DEBUG})\n",
    "  else()\n",
    "\tMESSAGE( WARNING \"Boost_LIBRARY_DIR empty, BOOST_LIBRARYDIR empty, Boost_LIBRARY_DIRS empty: might miss libraries at linking\" )\n",
    "  endif()\n",
    "else()\n",
    "  MESSAGE( FATAL_ERROR \"Boost was not found!\")\n",
    "endif()\n",
    "\n",
    "\n",
    "INCLUDE_DIRECTORIES(${Boost_INCLUDE_DIRS})\n",
    "\n",
    "# use c++20 standard\n",
    "SET(CMAKE_CXX_COMPILER /usr/bin/g++-10)\n",
    "SET(CMAKE_C_COMPILER /usr/bin/gcc-10)\n",
    "SET(CMAKE_CXX_STANDARD 20)\n",
    "SET(CMAKE_CXX_STANDARD_REQUIRED True) \n",
    "\n",
    "SET(CMAKE_CXX_FLAGS \"-g -Wall -Wextra\")\n",
    "SET(CMAKE_LINKER_FLAGS \"-pthread\")\n",
    "\n",
    "# use the Boost link directories\n",
    "LINK_DIRECTORIES(${Boost_LIBRARY_DIR})\n",
    "\n",
    "# this may be different...\n",
    "LINK_DIRECTORIES(/usr/lib/python3.8/config-3.8-x86_64-linux-gnu/)\n",
    "\n",
    "ADD_EXECUTABLE(${EXECUTABLE} ${SOURCE})\n",
    "\n",
    "\n",
    "TARGET_LINK_LIBRARIES(${EXECUTABLE} python3.8)\n",
    "TARGET_LINK_LIBRARIES(${EXECUTABLE} boost_python38)\n",
    "TARGET_LINK_LIBRARIES(${EXECUTABLE} boost_system)\n",
    "\n",
    "```"
   ]
  }
 ],
 "metadata": {
  "kernelspec": {
   "display_name": "Python 3",
   "language": "python",
   "name": "python3"
  },
  "language_info": {
   "codemirror_mode": {
    "name": "ipython",
    "version": 3
   },
   "file_extension": ".py",
   "mimetype": "text/x-python",
   "name": "python",
   "nbconvert_exporter": "python",
   "pygments_lexer": "ipython3",
   "version": "3.8.10"
  }
 },
 "nbformat": 4,
 "nbformat_minor": 4
}
