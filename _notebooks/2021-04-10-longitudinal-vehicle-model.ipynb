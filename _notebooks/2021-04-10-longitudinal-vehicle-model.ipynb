{
 "cells": [
  {
   "cell_type": "markdown",
   "metadata": {},
   "source": [
    "# Longitudinal Car Model\n",
    "\n",
    "> \"Overview of longitudinal vehicle dynamics\"\n",
    "\n",
    "- toc:true\n",
    "- branch: master\n",
    "- badges: false\n",
    "- comments: false\n",
    "- author: Alexandros Giavaras\n",
    "- categories: [longitudinal-dynamics, autonomous-vehicles, mathematical-modelling, vehicle-dynamics]"
   ]
  },
  {
   "cell_type": "markdown",
   "metadata": {},
   "source": [
    "## Longitudinal car model"
   ]
  },
  {
   "cell_type": "markdown",
   "metadata": {},
   "source": [
    "In this section, we will go over the concept of the <a href=\"https://www.sciencedirect.com/topics/engineering/longitudinal-dynamic\">vehicle longitudinal dynamics</a>. The two major elements of the longitudinal vehicle model discussed in this section  are "
   ]
  },
  {
   "cell_type": "markdown",
   "metadata": {},
   "source": [
    "- Vehicle dynamics\n",
    "- Powertrain dynamics"
   ]
  },
  {
   "cell_type": "markdown",
   "metadata": {},
   "source": [
    "The vehicle dynamics are influenced by longitudinal tire forces, aerodynamic drag forces, rolling\n",
    "resistance forces and gravitational forces. The longitudinal powertrain system of the vehicle\n",
    "consists of the internal combustion engine, the torque converter, the\n",
    "transmission and the wheels. This <a href=\"https://www.coursera.org/lecture/intro-self-driving-cars/lesson-4-longitudinal-vehicle-modeling-V8htX\"> video</a> explains nicely the concepts."
   ]
  },
  {
   "cell_type": "markdown",
   "metadata": {},
   "source": [
    "The longitudinal vehicle dynamic model is simply based on the dynamics of\n",
    "the vehicle that generate forward motion. The following figure shows a typical vehicle\n",
    "longitudinal motion force diagram on an inclined road. "
   ]
  },
  {
   "cell_type": "markdown",
   "metadata": {},
   "source": [
    "![](my_icons/longitudinal_model_1.jpeg)\n",
    "*Figure 1. Schematics of vehicle logitudinal model on an inclined road. Image from [1].*\n",
    " "
   ]
  },
  {
   "cell_type": "markdown",
   "metadata": {},
   "source": [
    "We have the followig forces acting on the vehicle"
   ]
  },
  {
   "cell_type": "markdown",
   "metadata": {},
   "source": [
    "- The front tire forces $F_{xf}$\n",
    "- The rear tire forces $F_{xr}$\n",
    "- The <a href=\"https://www.sciencelearn.org.nz/resources/1346-causes-of-aerodynamic-drag\">aerodynamic  drag force</a> $F_{aero}$\n",
    "- The rolling resistance forces $R_{xf}$ and $R_{xr}$\n",
    "- The force due to gravity $F_g$"
   ]
  },
  {
   "cell_type": "markdown",
   "metadata": {},
   "source": [
    "According to <a href=\"https://en.wikipedia.org/wiki/Newton%27s_laws_of_motion\">Newton’s laws of motion</a>, and in particular the second law, the longitudinal tire forces of the front and\n",
    "rear tyres, $F_{xf}$ and $F_{xr}$, should balance the resistance forces $F_{aero}$, the gravitational\n",
    "force $F_g$ , and the rolling resistance of the front and rear tires, $R_{xf}$ and $R_{xr}$.\n",
    "Any imbalance between these forces creates an acceleration of the vehicle in\n",
    "the longitudinal direction denoted by $\\ddot{x}$. Thus, the basic logintudinal motion model is given by"
   ]
  },
  {
   "cell_type": "markdown",
   "metadata": {},
   "source": [
    "$$m\\ddot{x} = F_{xf} + F_{xr} - F_{aero} - F_g - R_{xf} - R_{xr}$$"
   ]
  },
  {
   "cell_type": "markdown",
   "metadata": {},
   "source": [
    "where $m$ is the mass of the vehicle. The forces $F_{xf}$ and $F_{xr}$ come from the vehicle power train. We can express them collectively as $F_x$. Furthermore, we group together the rolling resistance forces under the symbol $R_x$. Thus, the reduced model is "
   ]
  },
  {
   "cell_type": "markdown",
   "metadata": {},
   "source": [
    "$$m\\ddot{x} = F_x  - F_{aero} - F_g - R_x $$"
   ]
  },
  {
   "cell_type": "markdown",
   "metadata": {},
   "source": [
    "We will need a way to express the involved quantities in order to be able to solve for $\\ddot{x}$. Let's start with the gravitational force $F_g$. "
   ]
  },
  {
   "cell_type": "markdown",
   "metadata": {},
   "source": [
    "###  Gravitational froce"
   ]
  },
  {
   "cell_type": "markdown",
   "metadata": {},
   "source": [
    "We can express $F_g$ as [2]"
   ]
  },
  {
   "cell_type": "markdown",
   "metadata": {},
   "source": [
    "$$F_g = mg sin (\\alpha)$$"
   ]
  },
  {
   "cell_type": "markdown",
   "metadata": {},
   "source": [
    "where $\\alpha$ is the local road slope. For small slope angles, we can write"
   ]
  },
  {
   "cell_type": "markdown",
   "metadata": {},
   "source": [
    "$$sin (\\alpha) \\approx \\alpha$$"
   ]
  },
  {
   "cell_type": "markdown",
   "metadata": {},
   "source": [
    "### Aerodynamic drag"
   ]
  },
  {
   "cell_type": "markdown",
   "metadata": {},
   "source": [
    "A vehicles longitudinal motion is resisted by aerodynamic drag rolling resistance\n",
    "and the force due to gravity.  The aerodynamic drag force $F_{aero}$ is typically\n",
    "modeled as dependent on air density $\\rho$, frontal area of the vehicle $A$, the vehicles\n",
    "coefficient of friction $C_D$, and the current speed of the vehicle. The functional relationship of all these quantities is given in the equation beow"
   ]
  },
  {
   "cell_type": "markdown",
   "metadata": {},
   "source": [
    "$$F_{aero} = \\frac{1}{2}C_D\\rho A v^2$$"
   ]
  },
  {
   "cell_type": "markdown",
   "metadata": {},
   "source": [
    "###  Rolling resistance"
   ]
  },
  {
   "cell_type": "markdown",
   "metadata": {},
   "source": [
    "For rolling resistance, we have a similar model which can depend on the normal\n",
    "force, tire pressure and characteristics, and vehicle speed."
   ]
  },
  {
   "cell_type": "markdown",
   "metadata": {},
   "source": [
    "$$R_x = N(c_{r, 0} + c_{r,1}|\\dot{x}| + c_{r,2}|\\dot{x}|^2 \\approx c_{r,1}|\\dot{x}|$$"
   ]
  },
  {
   "cell_type": "markdown",
   "metadata": {},
   "source": [
    "If we again assume nominal operating conditions and drop the second-order\n",
    "terms for simplicity, we can arrive at a linear rolling resistance model, where\n",
    "$c_{r,1}$ is the linear rolling resistance coefficient. In both cases, these are basic\n",
    "approximate models that are a good starting point for controller design. In\n",
    "practice, the fidelity of the model used depends on the accuracy required of the\n",
    "controller or the simulation environment."
   ]
  },
  {
   "cell_type": "markdown",
   "metadata": {},
   "source": [
    "###  Tire forces"
   ]
  },
  {
   "cell_type": "markdown",
   "metadata": {},
   "source": [
    "We now discuss the longitudinal tire forces expressed under the term $F_x$. Longitudinal tire forces depend on the following factors [2]"
   ]
  },
  {
   "cell_type": "markdown",
   "metadata": {},
   "source": [
    "- Slip ratio\n",
    "- Normal load on the tires\n",
    "- Friction coefficient on the tire road interface "
   ]
  },
  {
   "cell_type": "markdown",
   "metadata": {},
   "source": [
    "Let's see these components "
   ]
  },
  {
   "cell_type": "markdown",
   "metadata": {},
   "source": [
    "#### Slip ratio"
   ]
  },
  {
   "cell_type": "markdown",
   "metadata": {},
   "source": [
    "For an effective wheel radius $R_{effective}$ and a wheel velocity $\\omega_w$ the velocity is described by "
   ]
  },
  {
   "cell_type": "markdown",
   "metadata": {},
   "source": [
    "$$V = R_{effective}\\omega_w$$"
   ]
  },
  {
   "cell_type": "markdown",
   "metadata": {},
   "source": [
    "However, the actual longitudinal velocity at the axle of the wheel, $V_x$ may be different than that. This is called longitudinal slip [2]. In other words, the longitudinal slip is defined as [2] "
   ]
  },
  {
   "cell_type": "markdown",
   "metadata": {},
   "source": [
    "$$\\sigma = V - V_x$$"
   ]
  },
  {
   "cell_type": "markdown",
   "metadata": {},
   "source": [
    "We can further distinguish between slip ratios during braking and acceleration according to [2]"
   ]
  },
  {
   "cell_type": "markdown",
   "metadata": {},
   "source": [
    "An explanation of why longitudinal tire force depends on the slip ratio is\n",
    "provided in section 4.1.3. A more complete understanding of the influence of\n",
    "all three variables – slip ratio, normal force and tire-road friction coefficient\n",
    "– on tire force can be obtained by reading Chapter 13 of this book."
   ]
  },
  {
   "cell_type": "markdown",
   "metadata": {},
   "source": [
    "### Powertrain forces"
   ]
  },
  {
   "cell_type": "markdown",
   "metadata": {},
   "source": [
    "The longitudinal tire forces acting on the driving wheels are the main forces that drive the vehicle forward [2]. These forces depend on the difference between the rotational wheel velocity $R_{effective}\\omega_{w}$ and the vehicle longitudinal velocity $\\dot{x}$. In particular, we saw that we can model the longitudinal tire forces as"
   ]
  },
  {
   "cell_type": "markdown",
   "metadata": {},
   "source": [
    "$$F_{xf} = C_{\\sigma f}\\sigma_{xf}, ~~ F_{xr} = C_{\\sigma r}\\sigma_{xr}$$"
   ]
  },
  {
   "cell_type": "markdown",
   "metadata": {},
   "source": [
    "where $C_{\\sigma f}$ and $C_{\\sigma r}$ are called the longitudinal tire stiffness parameters of the front and rear tires respectively [2]. We saw then that these coefficients can be written as [2]"
   ]
  },
  {
   "cell_type": "markdown",
   "metadata": {},
   "source": [
    "$$\\sigma_{xf} = \\begin{cases} \\frac{R_{effecive}\\omega_{wf} - \\dot{x}}{\\dot{x}}, ~~\\text{during breaking} \\\\  \\frac{R_{effecive}\\omega_{wf} - \\dot{x}}{R_{effecive}\\omega_{wf}}, ~~\\text{during acceleration} \\end{cases}$$"
   ]
  },
  {
   "cell_type": "markdown",
   "metadata": {},
   "source": [
    "and a similar expression for $\\sigma_{rf}$. However, $\\omega_w$ is highly influence by the powertrain dynamics of the vehicle. The powertrain has the following major components [2]"
   ]
  },
  {
   "cell_type": "markdown",
   "metadata": {},
   "source": [
    "- Engine\n",
    "- Transmission or gearbox\n",
    "- Torque converter or clutch\n",
    "- Differential"
   ]
  },
  {
   "cell_type": "markdown",
   "metadata": {},
   "source": [
    "![](my_icons/longitudinal_model_2.jpeg)\n",
    "*Figure 2. Powertrain schematics. Image from [1].* \n",
    " \n"
   ]
  },
  {
   "cell_type": "markdown",
   "metadata": {},
   "source": [
    "Let's see each of the components separately"
   ]
  },
  {
   "cell_type": "markdown",
   "metadata": {},
   "source": [
    "###  Torque converter"
   ]
  },
  {
   "cell_type": "markdown",
   "metadata": {},
   "source": [
    "The torque converter is a type of fluid coupling that connects the engine to\n",
    "the transmission. If the engine is turning slowly, such as when the car is\n",
    "idling at a stoplight, the amount of torque passed through the torque\n",
    "converter is very small, so keeping the car still requires only a light pressure\n",
    "on the brake pedal.\n",
    "In addition to allowing the car come to a complete stop without stalling\n",
    "the engine, the torque converter gives the car more torque when it\n",
    "accelerates out of a stop. Modern torque converters can multiply the torque\n",
    "of the engine by two to three times. This effect only happens when the\n",
    "engine is turning much faster than the transmission. At higher speeds, the\n",
    "transmission catches up to the engine, eventually moving at almost the same\n",
    "speed. Ideally, though, the transmission should move at exactly the same\n",
    "speed as the engine, because the difference in speed wastes power. To\n",
    "counter this effect, many cars have a torque converter with a lockup clutch.\n",
    "When the two halves of the torque converter get up to speed, this clutch\n",
    "locks them together, eliminating the slippage and improving efficiency.\n",
    "The torque converter is typically unlocked as soon as the driver removes\n",
    "his/her foot from the accelerator pedal and steps on the brakes. This allows\n",
    "the engine to keep running even if the driver brakes to slow the wheels\n",
    "down."
   ]
  },
  {
   "cell_type": "markdown",
   "metadata": {},
   "source": [
    "###  Transmission dynamics"
   ]
  },
  {
   "cell_type": "markdown",
   "metadata": {},
   "source": [
    "Let's denote with $GR$ the gear ratio of the transmission. In general, $GR < 1$ and increases as the gear shifts upwards. The input to the transmission module is the torbine torque $T_{turbine}$ [2]. The torque transmitted to the wheels is $T_{wheels}$. Then, at steady state, this torque is given by "
   ]
  },
  {
   "cell_type": "markdown",
   "metadata": {},
   "source": [
    "$$ T_{wheels} = \\frac{1}{GR} T_{turbine}$$"
   ]
  },
  {
   "cell_type": "markdown",
   "metadata": {},
   "source": [
    "Furthermore, we have the following relaton between the transmission and the wheel speed [2]"
   ]
  },
  {
   "cell_type": "markdown",
   "metadata": {},
   "source": [
    "$$ \\omega_{transmission} = \\frac{1}{GR} \\omega_{wheels}$$"
   ]
  },
  {
   "cell_type": "markdown",
   "metadata": {},
   "source": [
    "Note that these equations cannot be used during gear change. See [2 page 105] for a model based on first order equations."
   ]
  },
  {
   "cell_type": "markdown",
   "metadata": {},
   "source": [
    "###  Engine dynamics"
   ]
  },
  {
   "cell_type": "markdown",
   "metadata": {},
   "source": [
    "A simplified engine dynamic model is"
   ]
  },
  {
   "cell_type": "markdown",
   "metadata": {},
   "source": [
    "$$J_w \\dot{\\omega}_e = T_{engine} - T_{pump}$$"
   ]
  },
  {
   "cell_type": "markdown",
   "metadata": {},
   "source": [
    "In general, the engine torque $T_{engine}$ depends on the dynamics in the intake and\n",
    "exhaust manifold of the engine and on the accelerator input from the driver [2]. $T_{pump}$ is the torque from the pump is the load of the engine from the torque converter [2]."
   ]
  },
  {
   "cell_type": "markdown",
   "metadata": {},
   "source": [
    "###   Wheel dynamics"
   ]
  },
  {
   "cell_type": "markdown",
   "metadata": {},
   "source": [
    "## Refernces"
   ]
  },
  {
   "cell_type": "markdown",
   "metadata": {},
   "source": [
    "1. <a href=\"https://www.coursera.org/lecture/intro-self-driving-cars/lesson-4-longitudinal-vehicle-modeling-V8htX\">Lesson 4: Longitudinal Vehicle Modeling</a>\n",
    "2. Rajamani R. ```Longitudinal Vehicle Dynamics. In: Vehicle Dynamics and Control.```, Mechanical Engineering Series. Springer 2012."
   ]
  }
 ],
 "metadata": {
  "kernelspec": {
   "display_name": "Python 3",
   "language": "python",
   "name": "python3"
  },
  "language_info": {
   "codemirror_mode": {
    "name": "ipython",
    "version": 3
   },
   "file_extension": ".py",
   "mimetype": "text/x-python",
   "name": "python",
   "nbconvert_exporter": "python",
   "pygments_lexer": "ipython3",
   "version": "3.8.5"
  }
 },
 "nbformat": 4,
 "nbformat_minor": 4
}
