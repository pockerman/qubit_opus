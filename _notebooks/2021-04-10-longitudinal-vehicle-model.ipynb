{
 "cells": [
  {
   "cell_type": "markdown",
   "metadata": {},
   "source": [
    "# Longitudinal Car Model\n",
    "\n",
    "> \"Overview of longitudinal vehicle dynamics\"\n",
    "\n",
    "- toc:true\n",
    "- branch: master\n",
    "- badges: false\n",
    "- comments: false\n",
    "- author: Alexandros Giavaras\n",
    "- categories: [longitudinal-dynamics, autonomous-vehicles, mathematical-modelling, vehicle-dynamics]"
   ]
  },
  {
   "cell_type": "markdown",
   "metadata": {},
   "source": [
    "## Longitudinal car model"
   ]
  },
  {
   "cell_type": "markdown",
   "metadata": {},
   "source": [
    "In this section, we will go over the concept of the <a href=\"https://www.sciencedirect.com/topics/engineering/longitudinal-dynamic\">vehicle longitudinal dynamics</a>. The two major elements of the longitudinal vehicle model discussed in this section  are "
   ]
  },
  {
   "cell_type": "markdown",
   "metadata": {},
   "source": [
    "- Vehicle dynamics\n",
    "- Powertrain dynamics"
   ]
  },
  {
   "cell_type": "markdown",
   "metadata": {},
   "source": [
    "The vehicle dynamics are influenced by longitudinal tire forces, aerodynamic drag forces, rolling\n",
    "resistance forces and gravitational forces. The longitudinal powertrain system of the vehicle\n",
    "consists of the internal combustion engine, the torque converter, the\n",
    "transmission and the wheels. This <a href=\"https://www.coursera.org/lecture/intro-self-driving-cars/lesson-4-longitudinal-vehicle-modeling-V8htX\"> video</a> explains nicely the concepts."
   ]
  },
  {
   "cell_type": "markdown",
   "metadata": {},
   "source": [
    "The longitudinal vehicle dynamic model is simply based on the dynamics of\n",
    "the vehicle that generate forward motion. The following figure shows a typical vehicle\n",
    "longitudinal motion force diagram on an inclined road. "
   ]
  },
  {
   "cell_type": "markdown",
   "metadata": {},
   "source": [
    "![](my_icons/longitudinal_model_1.jpeg)\n",
    "*Figure 1. Schematics of vehicle logitudinal model on an inclined road. Image from [1].*\n",
    " "
   ]
  },
  {
   "cell_type": "markdown",
   "metadata": {},
   "source": [
    "We have the followig forces acting on the vehicle"
   ]
  },
  {
   "cell_type": "markdown",
   "metadata": {},
   "source": [
    "- The front tire forces $F_{xf}$\n",
    "- The rear tire forces $F_{xr}$\n",
    "- The <a href=\"https://www.sciencelearn.org.nz/resources/1346-causes-of-aerodynamic-drag\">aerodynamic  drag force</a> $F_{aero}$\n",
    "- The rolling resistance forces $R_{xf}$ and $R_{xr}$\n",
    "- The force due to gravity $F_g$"
   ]
  },
  {
   "cell_type": "markdown",
   "metadata": {},
   "source": [
    "According to <a href=\"https://en.wikipedia.org/wiki/Newton%27s_laws_of_motion\">Newton’s laws of motion</a>, and in particular the second law, the longitudinal tire forces of the front and\n",
    "rear tyres, $F_{xf}$ and $F_{xr}$, should balance the resistance forces $F_{aero}$, the gravitational\n",
    "force $F_g$ , and the rolling resistance of the front and rear tires, $R_{xf}$ and $R_{xr}$.\n",
    "Any imbalance between these forces creates an acceleration of the vehicle in\n",
    "the longitudinal direction denoted by $\\ddot{x}$. Thus, the basic logintudinal motion model is given by"
   ]
  },
  {
   "cell_type": "markdown",
   "metadata": {},
   "source": [
    "$$m\\ddot{x} = F_{xf} + F_{xr} - F_{aero} - F_g - R_{xf} - R_{xr}$$"
   ]
  },
  {
   "cell_type": "markdown",
   "metadata": {},
   "source": [
    "where $m$ is the mass of the vehicle. The forces $F_{xf}$ and $F_{xr}$ come from the vehicle power train. We can express them collectively as $F_x$. Furthermore, we group together the rolling resistance forces under the symbol $R_x$. Thus, the reduced model is "
   ]
  },
  {
   "cell_type": "markdown",
   "metadata": {},
   "source": [
    "$$m\\ddot{x} = F_x  - F_{aero} - F_g - R_x $$"
   ]
  },
  {
   "cell_type": "markdown",
   "metadata": {},
   "source": [
    "We will need a way to express the involved quantities in order to be able to solve for $\\ddot{x}$. Let's start with the gravitational force $F_g$. "
   ]
  },
  {
   "cell_type": "markdown",
   "metadata": {},
   "source": [
    "###  Gravitational froce"
   ]
  },
  {
   "cell_type": "markdown",
   "metadata": {},
   "source": [
    "We can express $F_g$ as [2]"
   ]
  },
  {
   "cell_type": "markdown",
   "metadata": {},
   "source": [
    "$$F_g = mg sin (\\alpha)$$"
   ]
  },
  {
   "cell_type": "markdown",
   "metadata": {},
   "source": [
    "where $\\alpha$ is the local road slope. For small slope angles, we can write"
   ]
  },
  {
   "cell_type": "markdown",
   "metadata": {},
   "source": [
    "$$sin (\\alpha) \\approx \\alpha$$"
   ]
  },
  {
   "cell_type": "markdown",
   "metadata": {},
   "source": [
    "### Aerodynamic drag"
   ]
  },
  {
   "cell_type": "markdown",
   "metadata": {},
   "source": [
    "A vehicles longitudinal motion is resisted by aerodynamic drag rolling resistance\n",
    "and the force due to gravity.  The aerodynamic drag force $F_{aero}$ is typically\n",
    "modeled as dependent on air density $\\rho$, frontal area of the vehicle $A$, the vehicles\n",
    "coefficient of friction $C_D$, and the current speed of the vehicle. The functional relationship of all these quantities is given in the equation beow"
   ]
  },
  {
   "cell_type": "markdown",
   "metadata": {},
   "source": [
    "$$F_{aero} = \\frac{1}{2}C_D\\rho A v^2$$"
   ]
  },
  {
   "cell_type": "markdown",
   "metadata": {},
   "source": [
    "###  Rolling resistance"
   ]
  },
  {
   "cell_type": "markdown",
   "metadata": {},
   "source": [
    "Tires are elastic materials that are subject to deformation in the patch which is in contact with the road surface. Let's neglect the the deformation of the road.\n",
    "The tire is subject to a normal load. Due to this load, the tire material will be deflected normally at the contact patch and then regaining its shape whilst leaving the patch neighborhood.  However, internal damping of the material does not allow the energy lost during deforming the tire to be completely recovered when the material\n",
    "returns to its original shape [1]. It appears therefore, that some  loss of energy occurs. This loss is represented by a force on the tires called the rolling resistance that acts in the opposite direction of the motion of the vehicle. "
   ]
  },
  {
   "cell_type": "markdown",
   "metadata": {},
   "source": [
    "Hence, the rolling resistance depends on the normal tire load, tire pressure and vehicle speed. A model is given below [1], "
   ]
  },
  {
   "cell_type": "markdown",
   "metadata": {},
   "source": [
    "$$R_x = N(c_{r, 0} + c_{r,1}|\\dot{x}| + c_{r,2}|\\dot{x}|^2)$$"
   ]
  },
  {
   "cell_type": "markdown",
   "metadata": {},
   "source": [
    "see also [2] for further modelling. If we assume nominal operating conditions and drop the second-order terms for simplicity, we can arrive at a linear rolling resistance model, where $c_{r,1}$ is the linear rolling resistance coefficient."
   ]
  },
  {
   "cell_type": "markdown",
   "metadata": {},
   "source": [
    "$$R_x  \\approx c_{r,1}|\\dot{x}|$$"
   ]
  },
  {
   "cell_type": "markdown",
   "metadata": {},
   "source": [
    "###  Tire forces"
   ]
  },
  {
   "cell_type": "markdown",
   "metadata": {},
   "source": [
    "We now discuss the longitudinal tire forces expressed under the term $F_x$. Longitudinal tire forces depend on the following factors [2]"
   ]
  },
  {
   "cell_type": "markdown",
   "metadata": {},
   "source": [
    "- Slip ratio\n",
    "- Normal load on the tires\n",
    "- Friction coefficient on the tire road interface "
   ]
  },
  {
   "cell_type": "markdown",
   "metadata": {},
   "source": [
    "Let's see these components "
   ]
  },
  {
   "cell_type": "markdown",
   "metadata": {},
   "source": [
    "#### Slip ratio"
   ]
  },
  {
   "cell_type": "markdown",
   "metadata": {},
   "source": [
    "For an effective wheel radius $R_{effective}$ and a wheel velocity $\\omega_w$ the velocity is described by "
   ]
  },
  {
   "cell_type": "markdown",
   "metadata": {},
   "source": [
    "$$V_{wheel} = R_{effective}\\omega_{wheel}$$"
   ]
  },
  {
   "cell_type": "markdown",
   "metadata": {},
   "source": [
    "However, the actual longitudinal velocity at the axle of the wheel, $V_x$ may be different than that. This is called longitudinal slip [2]. In other words, the longitudinal slip is defined as [2] "
   ]
  },
  {
   "cell_type": "markdown",
   "metadata": {},
   "source": [
    "$$\\sigma = V_{wheel} - V_x$$"
   ]
  },
  {
   "cell_type": "markdown",
   "metadata": {},
   "source": [
    "Moreover, we define the longitudinal slip ratio during braking and acceleration as [2]"
   ]
  },
  {
   "cell_type": "markdown",
   "metadata": {},
   "source": [
    "$$\\sigma_{xf} = \\begin{cases} \\frac{R_{effecive}\\omega_{wf} - V_x}{V_{x}}, ~~\\text{during breaking} \\\\  \\frac{R_{effecive}\\omega_{wf} - V_x}{R_{effecive}\\omega_{wf}}, ~~\\text{during acceleration} \\end{cases}$$"
   ]
  },
  {
   "cell_type": "markdown",
   "metadata": {},
   "source": [
    "We have a similar expression for the rear wheels. Given the slip coefficients, we can express the longitudinal tire forces as "
   ]
  },
  {
   "cell_type": "markdown",
   "metadata": {},
   "source": [
    "$$F_{xf} = C_{\\sigma f}\\sigma_{xf}, ~~ F_{xr} = C_{\\sigma r}\\sigma_{xr}$$"
   ]
  },
  {
   "cell_type": "markdown",
   "metadata": {},
   "source": [
    "where $C_{\\sigma f}$ and $C_{\\sigma r}$ are called the longitudinal tire stiffness parameters of the front and rear tires respectively [2]. "
   ]
  },
  {
   "cell_type": "markdown",
   "metadata": {},
   "source": [
    "### Powertrain forces"
   ]
  },
  {
   "cell_type": "markdown",
   "metadata": {},
   "source": [
    "The longitudinal tire forces, denoted collectivelly above with $F_x$, acting on the driving wheels are the main forces that drive the vehicle forward [2]. These forces depend on the difference between the rotational wheel velocity $R_{effective}\\omega_{w}$ and the vehicle longitudinal velocity $\\dot{x}$. In particular, we saw that we can model the longitudinal tire forces as"
   ]
  },
  {
   "cell_type": "markdown",
   "metadata": {},
   "source": [
    "$$F_{xf} = C_{\\sigma f}\\sigma_{xf}, ~~ F_{xr} = C_{\\sigma r}\\sigma_{xr}$$"
   ]
  },
  {
   "cell_type": "markdown",
   "metadata": {},
   "source": [
    "where $C_{\\sigma f}$ and $C_{\\sigma r}$ are called the longitudinal tire stiffness parameters of the front and rear tires respectively [2]. However, $\\omega_w$ is highly influence by the powertrain dynamics of the vehicle. The powertrain has the following major components [2]"
   ]
  },
  {
   "cell_type": "markdown",
   "metadata": {},
   "source": [
    "- Engine\n",
    "- Transmission or gearbox\n",
    "- Torque converter or clutch\n",
    "- Differential\n",
    "- Wheels"
   ]
  },
  {
   "cell_type": "markdown",
   "metadata": {},
   "source": [
    "![](my_icons/longitudinal_model_2.jpeg)\n",
    "*Figure 2. Powertrain schematics. Image from [1].* \n",
    " \n"
   ]
  },
  {
   "cell_type": "markdown",
   "metadata": {},
   "source": [
    "Let's see each of the components separately"
   ]
  },
  {
   "cell_type": "markdown",
   "metadata": {},
   "source": [
    "###  Torque converter"
   ]
  },
  {
   "cell_type": "markdown",
   "metadata": {},
   "source": [
    "The torque cnverter connects the engine to the transmission. When the engine is turning slowly, e.g. when the car waits at a stoplight, the amount of torque passed through the torque converter is very small. Thus,  maintaining the the car stopped  requires only a light pressure on the brake pedal. Hence, we don't have to stall the engine in order to maintain the vehicle stopped. In contrast, when the vehicle accelerates the torque converter gives the car more torque [2].  "
   ]
  },
  {
   "cell_type": "markdown",
   "metadata": {},
   "source": [
    "The torque converter has the following major components [2]"
   ]
  },
  {
   "cell_type": "markdown",
   "metadata": {},
   "source": [
    "- pump\n",
    "- turbine\n",
    "- transmission fluid"
   ]
  },
  {
   "cell_type": "markdown",
   "metadata": {},
   "source": [
    "The pump turns at the same speed as the engine whilst the turbine is connected to the\n",
    "transmission and causes the transmission to spin at the same speed as the\n",
    "turbine [2] This is what  basically moves the vehicle. The coupling between the turbine and the pump is through the transmission fluid. Torque is transmitted from the\n",
    "pump to the turbine of the torque converter [2]. "
   ]
  },
  {
   "cell_type": "markdown",
   "metadata": {},
   "source": [
    "Various models have been introduced to model the pump torque $T_{pump}$ and the turbine  torque $T_{turbine}$ see [2 page 103]."
   ]
  },
  {
   "cell_type": "markdown",
   "metadata": {},
   "source": [
    "####  Transmission dynamics"
   ]
  },
  {
   "cell_type": "markdown",
   "metadata": {},
   "source": [
    "Let's denote with $GR$ the gear ratio of the transmission. In general, $GR < 1$ and increases as the gear shifts upwards. The input to the transmission module is the torbine torque $T_{turbine}$ [2]. The torque transmitted to the wheels is $T_{wheels}$. Then, at steady state, this torque is given by "
   ]
  },
  {
   "cell_type": "markdown",
   "metadata": {},
   "source": [
    "$$ T_{wheels} = \\frac{1}{GR} T_{turbine}$$"
   ]
  },
  {
   "cell_type": "markdown",
   "metadata": {},
   "source": [
    "Furthermore, we have the following relaton between the transmission and the wheel speed [2]"
   ]
  },
  {
   "cell_type": "markdown",
   "metadata": {},
   "source": [
    "$$ \\omega_{transmission} = \\frac{1}{GR} \\omega_{wheels}$$"
   ]
  },
  {
   "cell_type": "markdown",
   "metadata": {},
   "source": [
    "Note that these equations cannot be used during gear change. See [2 page 105] for a model based on first order equations."
   ]
  },
  {
   "cell_type": "markdown",
   "metadata": {},
   "source": [
    "###  Engine dynamics"
   ]
  },
  {
   "cell_type": "markdown",
   "metadata": {},
   "source": [
    "A simplified engine dynamic model is"
   ]
  },
  {
   "cell_type": "markdown",
   "metadata": {},
   "source": [
    "$$J_{engine} \\dot{\\omega}_e = T_{engine} - T_{pump}$$"
   ]
  },
  {
   "cell_type": "markdown",
   "metadata": {},
   "source": [
    "In general, the engine torque $T_{engine}$ depends on the dynamics in the intake and\n",
    "exhaust manifold of the engine and on the accelerator input from the driver [2]. $T_{pump}$ is the torque from the pump is the load of the engine from the torque converter [2]."
   ]
  },
  {
   "cell_type": "markdown",
   "metadata": {},
   "source": [
    "###   Wheel dynamics"
   ]
  },
  {
   "cell_type": "markdown",
   "metadata": {},
   "source": [
    "The driving wheels rotational dynamics, e.g. for the rear wheels in a rear wheel driven vehicle, are dictated by [2]"
   ]
  },
  {
   "cell_type": "markdown",
   "metadata": {},
   "source": [
    "$$J_{wheel} \\dot{\\omega}_{wheel, r} = T_{wheel} - R_{effective}F_{xr}$$"
   ]
  },
  {
   "cell_type": "markdown",
   "metadata": {},
   "source": [
    "For the non-driven wheels the torque term is zero. "
   ]
  },
  {
   "cell_type": "markdown",
   "metadata": {},
   "source": [
    "## Refernces"
   ]
  },
  {
   "cell_type": "markdown",
   "metadata": {},
   "source": [
    "1. <a href=\"https://www.coursera.org/lecture/intro-self-driving-cars/lesson-4-longitudinal-vehicle-modeling-V8htX\">Lesson 4: Longitudinal Vehicle Modeling</a>\n",
    "2. Rajamani R. ```Longitudinal Vehicle Dynamics. In: Vehicle Dynamics and Control.```, Mechanical Engineering Series. Springer 2012."
   ]
  }
 ],
 "metadata": {
  "kernelspec": {
   "display_name": "Python 3",
   "language": "python",
   "name": "python3"
  },
  "language_info": {
   "codemirror_mode": {
    "name": "ipython",
    "version": 3
   },
   "file_extension": ".py",
   "mimetype": "text/x-python",
   "name": "python",
   "nbconvert_exporter": "python",
   "pygments_lexer": "ipython3",
   "version": "3.8.5"
  }
 },
 "nbformat": 4,
 "nbformat_minor": 4
}
