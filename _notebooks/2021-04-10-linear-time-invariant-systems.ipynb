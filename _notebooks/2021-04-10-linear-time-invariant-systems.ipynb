{
 "cells": [
  {
   "cell_type": "markdown",
   "metadata": {},
   "source": [
    "# Linear Time-Invariant Systems\n",
    "\n",
    "> \"Brief introduction to linear time-invariant systems\"\n",
    "\n",
    "- toc:true\n",
    "- branch: master\n",
    "- badges: false\n",
    "- comments: false\n",
    "- author: Alexandros Giavaras\n",
    "- categories: [dynamical-systems, linear-systems, ode, time-invariant]"
   ]
  },
  {
   "cell_type": "markdown",
   "metadata": {},
   "source": [
    "## <a name=\"ekf\"></a> Linear time-invariant systems"
   ]
  },
  {
   "cell_type": "markdown",
   "metadata": {},
   "source": [
    "Linear systems form a cornerstone of mathematical modelling of dynamical systems. Indeed a system or some aspects of it can be modelled using a linear model. Furthermore, non-linear systems can be linearized around a certain mode of operation. In this section, we give a brief overview of linear time-invariant systems. The major advantage of linear systems is that in terms of analysis a far simpler. Moreover, understanding the dynamics and thus stability of the system is easier."
   ]
  },
  {
   "cell_type": "markdown",
   "metadata": {},
   "source": [
    "Let's consider the following system "
   ]
  },
  {
   "cell_type": "markdown",
   "metadata": {},
   "source": [
    "$$\\frac{d \\mathbf{x}}{dt} = \\mathbf{f}(\\mathbf{x}, \\mathbf{u}), ~~ \\mathbf{y} = \\mathbf{g}(\\mathbf{x}, \\mathbf{u})$$"
   ]
  },
  {
   "cell_type": "markdown",
   "metadata": {},
   "source": [
    "As before, $\\mathbf{x}$ represents the state of the modelled system whilst  $\\mathbf{u}$ represents some control input to the system. Note that the right-hand side terms do not depend explicitly on the time variable $t$. "
   ]
  },
  {
   "cell_type": "markdown",
   "metadata": {},
   "source": [
    "If $\\mathbf{f}$ or $\\mathbf{g}$ or both are non-linear, then the system is non-linear. In this case, we can linearize the system i.e. its dynamics, using a Taylor series expansion near a fixed point $(\\bar{\\mathbf{x}}, \\bar{\\mathbf{u}})$. Recall that at a fixed point is  a point where "
   ]
  },
  {
   "cell_type": "markdown",
   "metadata": {},
   "source": [
    "$$\\mathbf{f}(\\bar{\\mathbf{x}}, \\bar{\\mathbf{u}}) = \\mathbf{0}$$"
   ]
  },
  {
   "cell_type": "markdown",
   "metadata": {},
   "source": [
    "The linear, or linearized, dynamics can be written in the following matrix form (assuming no errors)"
   ]
  },
  {
   "cell_type": "markdown",
   "metadata": {},
   "source": [
    "$$\\frac{d\\mathbf{x}}{dt} = \\mathbf{A}\\mathbf{x} + \\mathbf{B}\\mathbf{u}, ~~ \\mathbf{y} = \\mathbf{C}\\mathbf{x} + \\mathbf{D}\\mathbf{u}$$"
   ]
  },
  {
   "cell_type": "markdown",
   "metadata": {},
   "source": [
    "### <a name=\"sub_sec_1\"></a> Unforced dynamics"
   ]
  },
  {
   "cell_type": "markdown",
   "metadata": {},
   "source": [
    "When $\\mathbf{u} = \\mathbf{0}$ and when there are no measurement errors i.e. $\\mathbf{y} = \\mathbf{x}$. The system reduces to "
   ]
  },
  {
   "cell_type": "markdown",
   "metadata": {},
   "source": [
    "$$\\frac{d\\mathbf{x}}{dt} = \\mathbf{A}\\mathbf{x}$$"
   ]
  },
  {
   "cell_type": "markdown",
   "metadata": {},
   "source": [
    "The solution to this ODE is [1]"
   ]
  },
  {
   "cell_type": "markdown",
   "metadata": {},
   "source": [
    "$$\\mathbf{x}(t) = e^{\\mathbf{A}t}\\mathbf{x}(0)$$"
   ]
  },
  {
   "cell_type": "markdown",
   "metadata": {},
   "source": [
    "Thus $\\mathbf{x}(t)$ depends or is determined entirely by the matrix $\\mathbf{A}$. The stability of the unforced system therefore, can be understood via the eigenvalues and eigenvectors of  $\\mathbf{A}$. In particular we have the following cases"
   ]
  },
  {
   "cell_type": "markdown",
   "metadata": {},
   "source": [
    "- All the eigenvalues $\\lambda$ satisfy $Re(\\lambda) < 0$. Then the system is stable and all solutions decay to $\\mathbf{u} = \\mathbf{0}$ as $t \\rightarrow \\infty$\n",
    "- There exists at least one eigenvalue $\\lambda$ with $Re(\\lambda) > 0$ then the system is unsatble and will diverge from the fixed point along the corresponding unstable eigenvector direction."
   ]
  },
  {
   "cell_type": "markdown",
   "metadata": {},
   "source": [
    "### <a name=\"sub_sec_2\"></a> Forced dynamics"
   ]
  },
  {
   "cell_type": "markdown",
   "metadata": {},
   "source": [
    "Now let's assume that $\\mathbf{u} \\neq \\mathbf{0}$ and that $\\mathbf{x}(0) = \\mathbf{0}$. In this case the solution up to time $t$ is given by [1]"
   ]
  },
  {
   "cell_type": "markdown",
   "metadata": {},
   "source": [
    "$$\\mathbf{x}(t) = \\int_{0}^t e^{\\mathbf{A}(t - \\tau)} \\mathbf{B}\\mathbf{u}(\\tau)d \\tau $$"
   ]
  },
  {
   "cell_type": "markdown",
   "metadata": {},
   "source": [
    "This integral is nothing more than a <a href=\"https://en.wikipedia.org/wiki/Convolution\">convolution</a>. Thus, we can write"
   ]
  },
  {
   "cell_type": "markdown",
   "metadata": {},
   "source": [
    "$$\\mathbf{x}(t) =  e^{\\mathbf{A}t} \\mathbf{B} * \\mathbf{u}(t)$$"
   ]
  },
  {
   "cell_type": "markdown",
   "metadata": {},
   "source": [
    "## <a name=\"refs\"></a> References"
   ]
  },
  {
   "cell_type": "markdown",
   "metadata": {},
   "source": [
    "1. Steven L. Brunton, J. Nathan Kutz, ```Data-Driven Science and Engineering. Machine Learning, Dynamical System and Control```, Cambridge University Press."
   ]
  }
 ],
 "metadata": {
  "kernelspec": {
   "display_name": "Python 3",
   "language": "python",
   "name": "python3"
  },
  "language_info": {
   "codemirror_mode": {
    "name": "ipython",
    "version": 3
   },
   "file_extension": ".py",
   "mimetype": "text/x-python",
   "name": "python",
   "nbconvert_exporter": "python",
   "pygments_lexer": "ipython3",
   "version": "3.8.5"
  }
 },
 "nbformat": 4,
 "nbformat_minor": 4
}
