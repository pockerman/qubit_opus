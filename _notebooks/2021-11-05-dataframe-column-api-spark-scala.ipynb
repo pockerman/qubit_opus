{
 "cells": [
  {
   "cell_type": "markdown",
   "metadata": {},
   "source": [
    "# Apache Spark. Explore the Column API\n",
    "\n",
    "> 'Explore the Column API'\n",
    "\n",
    "- toc:true\n",
    "- branch: master\n",
    "- badges: false\n",
    "- comments: false\n",
    "- author: Alexandros Giavaras\n",
    "- categories: [spark-dataframe, spark, scala, big-data, data-engineering, data-analysis]"
   ]
  },
  {
   "cell_type": "markdown",
   "metadata": {},
   "source": [
    "## Overview"
   ]
  },
  {
   "cell_type": "markdown",
   "metadata": {},
   "source": [
    "In this notebook, we will explore the ```Column``` type API. The source code can be found <a href=\"https://github.com/pockerman/spark_scala_examples\">here</a>."
   ]
  },
  {
   "cell_type": "markdown",
   "metadata": {},
   "source": [
    "## Explore the Column API"
   ]
  },
  {
   "cell_type": "markdown",
   "metadata": {},
   "source": [
    "Named columns in a ```DataFrame``` are similar to named columns in pandas data frames; they describe a type of field [1]. This is also similar to an RDBMS table. In Spark, a column is an object represented by the ```Column``` type [1].  Let's explore what we can do with columns in Spark. The examples are taken from [1]. The following Scala snippet shows some of the ```Column``` type API functions in action."
   ]
  },
  {
   "cell_type": "markdown",
   "metadata": {},
   "source": [
    "```\n",
    "\n",
    "package train.spark\n",
    "\n",
    "/*\n",
    "\n",
    "Explore the DataFrame Column API\n",
    "\n",
    "*/\n",
    "\n",
    "import org.apache.spark.sql.SparkSession\n",
    "import org.apache.spark.sql.types._\n",
    "import org.apache.spark.sql.functions._\n",
    "\n",
    "object ExploreDataFrameColumnAPI {\n",
    "\n",
    "  \n",
    "  def main(args: Array[String]) {\n",
    "  \n",
    "    val csvFile = \"/home/alex/qi3/learn_scala/scripts/spark/data/train.csv\" \n",
    "    val appName: String = \"Spark DataFrame API Demo\"\n",
    "    \n",
    "    val spark = SparkSession\n",
    "    .builder()\n",
    "    .appName(appName)\n",
    "    .getOrCreate()\n",
    "    \n",
    "    // specify the schema \n",
    "    val customSchema = StructType(Array(\n",
    "\t\t\tStructField(\"mu-1\", DoubleType, false),\n",
    "  \t\t\tStructField(\"mu-2\", DoubleType, false),\n",
    "\t  \t\tStructField(\"label\", IntegerType, false)))\n",
    "    \n",
    "    // read the data frame\n",
    "    val df = spark.read.schema(customSchema).csv(csvFile)\n",
    "    \n",
    "    // print the schema\n",
    "    df.printSchema()\n",
    "    \n",
    "    // get the columns\n",
    "    df.columns\n",
    "    \n",
    "    // access a particular column by using col\n",
    "    // it returns a Column type\n",
    "    val colId = df.col(\"Id\")\n",
    "    \n",
    "    // we can use expressions on columns\n",
    "    df.select(expr(\"Hits * 2\")).show(2)\n",
    "    \n",
    "    // compute a value\n",
    "    df.select(col(\"Hits\") * 2).show(2)\n",
    "    \n",
    "    \n",
    "    // add a new column in the data frame\n",
    "    df.withColumn(\"Big Hitters\", (expr(\"Hits > 10000\"))).show()\t\n",
    "    \n",
    "    // concatenate columns and create a new column\n",
    "    df.withColumn(\"AuthorsId\", (concat(expr(\"First\"), expr(\"Last\"), expr(\"Id\"))))\n",
    "      .select(col(\"AuthorsId\"))\n",
    "      .show(4)\n",
    "        \n",
    "  }\n",
    "}\n",
    "```"
   ]
  },
  {
   "cell_type": "markdown",
   "metadata": {},
   "source": [
    "## References"
   ]
  },
  {
   "cell_type": "markdown",
   "metadata": {},
   "source": [
    "1.  Jules S. Damji, Brooke Wenig, Tathagata Das, Denny Lee, ```Learning Spark. Lighting-fast data analytics```, O'Reilly, 2nd Edition."
   ]
  }
 ],
 "metadata": {
  "kernelspec": {
   "display_name": "Python 3",
   "language": "python",
   "name": "python3"
  },
  "language_info": {
   "codemirror_mode": {
    "name": "ipython",
    "version": 3
   },
   "file_extension": ".py",
   "mimetype": "text/x-python",
   "name": "python",
   "nbconvert_exporter": "python",
   "pygments_lexer": "ipython3",
   "version": "3.8.10"
  }
 },
 "nbformat": 4,
 "nbformat_minor": 4
}
