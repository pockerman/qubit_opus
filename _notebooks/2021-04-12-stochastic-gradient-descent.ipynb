{
 "cells": [
  {
   "cell_type": "markdown",
   "metadata": {},
   "source": [
    "# Stochastic Gradient Descent\n",
    "\n",
    "\n",
    "> \"Introduction to SGD for reinforcement learning\"\n",
    "\n",
    "- toc:true\n",
    "- branch: master\n",
    "- badges: false\n",
    "- comments: false\n",
    "- author: Alexandros Giavaras\n",
    "- categories: [stochastic-gradient-descent, gradient-descent, reinforcement-learning, algorithms]"
   ]
  },
  {
   "cell_type": "markdown",
   "metadata": {},
   "source": [
    "<a href=\"https://en.wikipedia.org/wiki/Stochastic_gradient_descent\">Stochastic gradient descent</a> (SGD) methods are among the most widely used of\n",
    "all function approximation methods. Moreover, they are particularly well suited to online reinforcement learning.\n",
    "The article <a href=\"https://ruder.io/optimizing-gradient-descent/index.html\">An overview of gradient descent optimization algorithms</a> gives a nice review of gradient descent methods."
   ]
  },
  {
   "cell_type": "markdown",
   "metadata": {},
   "source": [
    "Gradient descent methods assume that the function approximation ( in our case this is the approximate value function $\\hat{V}(s, \\mathbf{w})$) is a differentiable function of $\\mathbf{w}$. Furthermore, we assume that this is true for $s \\in \\mathbb{S}$"
   ]
  },
  {
   "cell_type": "markdown",
   "metadata": {},
   "source": [
    "Gradient-descent methods are iterative algorithms. Thus, we denote with $\\mathbf{w}_t$ the weight vector at the $t-th$ iteration. Furtheremore, at each iteration, we observe $S_t \\rightarrow V_{\\pi}(S_t)$ i.e. the example consists of a state $S_t$ and its true value under the policy. Note that we can choose the state randomly. These states might be successive states from an interaction with the environment [1]."
   ]
  },
  {
   "cell_type": "markdown",
   "metadata": {},
   "source": [
    "Hence, we have in hand $S_t$ and the corresponding state value i.e. $V_{\\pi} (S_t)$.\n",
    "However, the problem we now face is that the number of weights is far less than the number of states i.e. our function approximator has a rather limited resolution. In particular, there is generally no $\\mathbf{w}$ that gets all the states, or even all the examples, exactly correct. A second problem is that the function approximator must generalize to all the other states that have not appeared yet [1].\n"
   ]
  },
  {
   "cell_type": "markdown",
   "metadata": {},
   "source": [
    "We assume that states appear in examples with the same distribution, $\\mu$, over which we are trying\n",
    "to minimize the $MSVE$  given by: \n"
   ]
  },
  {
   "cell_type": "markdown",
   "metadata": {},
   "source": [
    "$$MSVE(\\mathbf{w}) = \\sum_{s \\in S} \\mu(s)\\left[V_{\\pi}(s) - \\hat{V}_{\\pi}(s, \\mathbf{w})\\right]^2$$"
   ]
  },
  {
   "cell_type": "markdown",
   "metadata": {},
   "source": [
    "Stochastic gradient-descent (SGD) methods do this by adjusting the weight\n",
    "vector after each example is visited by a small amount in the direction that would most reduce the error on that example. Namely"
   ]
  },
  {
   "cell_type": "markdown",
   "metadata": {},
   "source": [
    "$$\\mathbf{w}_{t+1} = \\mathbf{w}_t - \\frac{1}{2}\\eta \\nabla \\left[V_{\\pi}(S_t)-\\hat{V}_{\\pi}(S_t,\\mathbf{w}_t) \\right ]^2 = \\mathbf{w}_t + \\eta \\left[V_{\\pi}(S_t)-\\hat{V}_{\\pi}(S_t,\\mathbf{w}_t) \\right ] \\nabla \\hat{V}(S_t, \\mathbf{w}_t)$$"
   ]
  },
  {
   "cell_type": "markdown",
   "metadata": {},
   "source": [
    "where $\\eta$ is a positive step-size parameter also known as learning rate and "
   ]
  },
  {
   "cell_type": "markdown",
   "metadata": {},
   "source": [
    "$$\\nabla \\hat{V}(S_t, \\mathbf{w}) = \\left(\\frac{\\partial \\hat{V}(S, \\mathbf{w})}{\\partial w_1}, ..., \\frac{\\partial \\hat{V}(S, \\mathbf{w})}{\\partial w_m}\\right)$$"
   ]
  },
  {
   "cell_type": "markdown",
   "metadata": {},
   "source": [
    "SGD methods are gradient descent methods because. The latter methods update $\\mathbf{w}_t$ by a small amount towards the direction that most reduces the error.\n",
    "The error metric, $MSVE$, that we use here, uses as an error indicator the following quantity\n"
   ]
  },
  {
   "cell_type": "markdown",
   "metadata": {},
   "source": [
    "$$e^2 = \\left[V_{\\pi}(s) - \\hat{V}_{\\pi}(s, \\mathbf{w})\\right]^2$$"
   ]
  },
  {
   "cell_type": "markdown",
   "metadata": {},
   "source": [
    "This is reduced most rapidly in the direction of $-\\nabla \\hat{V}(S_t, \\mathbf{w})$."
   ]
  },
  {
   "cell_type": "markdown",
   "metadata": {},
   "source": [
    "There are various gradient descent methods, see for example [2]. Gradient descent methods are called stochastic when the update is done on only a single example, which might have been selected stochastically. Over many examples, making small steps, the overall effect is to minimize an average performance measure such as the MSVE. [1] "
   ]
  },
  {
   "cell_type": "markdown",
   "metadata": {},
   "source": [
    "SGD performs frequent updates with a high variance that cause the objective function to fluctuate heavily. This is shown in the image below."
   ]
  },
  {
   "cell_type": "markdown",
   "metadata": {},
   "source": [
    "![](my_icons/sgd_fluctuation.png)\n",
    "*Figure 1. SGD fluctuation. Image from [2].*\n"
   ]
  },
  {
   "cell_type": "markdown",
   "metadata": {},
   "source": [
    "This overshooting behavior, in general, complicates convergence to the exact minimum. However,  by slowly decreasing the learning rate $\\eta$ it has been shown that SGD shows the same convergence behaviour as batch gradient descent and almost certainly converges to a local or the global minimum both for <a href=\"https://en.wikipedia.org/wiki/Convex_optimization\">convex</a> and non-convex optimization problems. One other problem one may face with the SGD algorithm is that some bias may be introduced as the algorithm updates the weights on a per weights basis. This can be mitigated by suffling the data after each iteration."
   ]
  },
  {
   "cell_type": "markdown",
   "metadata": {},
   "source": [
    "Given that SGD does frequent updates that may exhibit high variance why don't we move in the minimizing direction in one step and therefore completely eliminate the error on the visited example? Altghough many times this can be done, it may not be the right thing to do so. The reason why this is the case, is that the weights are far less than the states. Hence, we should not seek to find a value function that has zero error for all states. Instead, the  approximation should balance the errors in the different states [1]. If we\n",
    "completely corrected each example in one step, then we would not find such a balance [1].\n",
    "Note also that the convergence results for SGD methods assume that the learning rate, $\\eta$, decreases over time. Moreover, if it  decreases in such a way as to satisfy the following stochastic approximation conditions \n"
   ]
  },
  {
   "cell_type": "markdown",
   "metadata": {},
   "source": [
    "$$\\sum_{n = 1}^{\\infty} \\eta_n(\\alpha) = \\infty ~~ \\text{and} ~~ \\sum_{n = 1}^{\\infty} \\eta_{n}^2(\\alpha) < \\infty $$"
   ]
  },
  {
   "cell_type": "markdown",
   "metadata": {},
   "source": [
    "then the SGD method is guaranteed to converge to a local optimum [1].\n"
   ]
  },
  {
   "cell_type": "markdown",
   "metadata": {},
   "source": [
    "## <a name=\"refs\"></a> References"
   ]
  },
  {
   "cell_type": "markdown",
   "metadata": {},
   "source": [
    "1. Richard S. Sutton and Andrew G. Barto, ```Reinforcement Learning: An Introduction```. \n",
    "2. <a href=\"https://ruder.io/optimizing-gradient-descent/\">An overview of gradient descent optimization algorithms</a>"
   ]
  }
 ],
 "metadata": {
  "kernelspec": {
   "display_name": "Python 3",
   "language": "python",
   "name": "python3"
  },
  "language_info": {
   "codemirror_mode": {
    "name": "ipython",
    "version": 3
   },
   "file_extension": ".py",
   "mimetype": "text/x-python",
   "name": "python",
   "nbconvert_exporter": "python",
   "pygments_lexer": "ipython3",
   "version": "3.8.5"
  }
 },
 "nbformat": 4,
 "nbformat_minor": 4
}
