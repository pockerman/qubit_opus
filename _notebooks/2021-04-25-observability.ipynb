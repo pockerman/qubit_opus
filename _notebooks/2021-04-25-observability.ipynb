{
 "cells": [
  {
   "cell_type": "markdown",
   "metadata": {},
   "source": [
    "# Observability \n",
    "\n",
    "\n",
    "> \"Brief introduction to observability for linear dynamical systems\"\n",
    "\n",
    "- toc:true\n",
    "- branch: master\n",
    "- badges: false\n",
    "- comments: false\n",
    "- author: Alexandros Giavaras\n",
    "- categories: [dynamical-systems, linear-systems, control, observability]"
   ]
  },
  {
   "cell_type": "markdown",
   "metadata": {},
   "source": [
    "## <a name=\"overview\"></a> Overview"
   ]
  },
  {
   "cell_type": "markdown",
   "metadata": {},
   "source": [
    "Using full state feedback i.e. $\\mathbf{u} = - \\mathbf{K}\\mathbf{x}$, we can modify the behavior of a controllable system. However, it is not always possible to have full-state measurements of the state vector $\\mathbf{x}$. In this case, we have to estimat it. This is only possible when the system observable [1]. In this post we will have a brief view of observability.  "
   ]
  },
  {
   "cell_type": "markdown",
   "metadata": {},
   "source": [
    "## <a name=\"ekf\"></a> Observability "
   ]
  },
  {
   "cell_type": "markdown",
   "metadata": {},
   "source": [
    "Recall that we deal with linear systems of the form "
   ]
  },
  {
   "cell_type": "markdown",
   "metadata": {},
   "source": [
    "$$\\frac{d\\mathbf{x}}{dt} = \\mathbf{A}\\mathbf{x} + \\mathbf{B}\\mathbf{u}, ~~ \\mathbf{y} = \\mathbf{C}\\mathbf{x} + \\mathbf{D}\\mathbf{u}$$"
   ]
  },
  {
   "cell_type": "markdown",
   "metadata": {},
   "source": [
    "In this case, observability is similar to controlability [1]. Briefly, a system is observable if it is possible to estimate any state $\\boldsymbol{\\xi} \\in \\mathbb{R}^n$ from a history of measurements $\\mathbf{y}(t)$ [1]. The observability matrix $\\mathbf{\\cal{O}}$ allows us to determin entirely whether a system is observable or not [1]. It is defined as "
   ]
  },
  {
   "cell_type": "markdown",
   "metadata": {},
   "source": [
    "$$\\mathcal{\\cal{O}} = \\begin{bmatrix}\\mathbf{C} \\\\ \\mathbf{CA} \\\\ \\mathbf{C}\\mathbf{A}^2 \\\\ \\vdots \\\\ \\mathbf{C}\\mathbf{A}^{n-1} \\end{bmatrix}$$"
   ]
  },
  {
   "cell_type": "markdown",
   "metadata": {},
   "source": [
    "Where $n$ is the number of state variables. Specifically, if the rows of the matrix span $\\mathbb{R}^n$ then it is possible to estimate any full-dimensional state vector $\\mathbf{x} \\in \\mathbb{R}^n$  from the time-history of $\\mathbf{y}(t)$ [1]. "
   ]
  },
  {
   "cell_type": "markdown",
   "metadata": {},
   "source": [
    "If a system is observable, then it is possible to design the eignevalues of the estimated dynamics to have properties such as noise attenuation and fast estimation [1]. Finally, note that observability matrix is the transpose of the controllability matrix $\\mathbf{\\cal{C}}$. "
   ]
  },
  {
   "cell_type": "markdown",
   "metadata": {},
   "source": [
    "## <a name=\"refs\"></a> References"
   ]
  },
  {
   "cell_type": "markdown",
   "metadata": {},
   "source": [
    "1. Steven L. Brunton, J. Nathan Kutz, ```Data-Driven Science and Engineering. Machine Learning, Dynamical System and Control```, Cambridge University Press."
   ]
  }
 ],
 "metadata": {
  "kernelspec": {
   "display_name": "Python 3",
   "language": "python",
   "name": "python3"
  },
  "language_info": {
   "codemirror_mode": {
    "name": "ipython",
    "version": 3
   },
   "file_extension": ".py",
   "mimetype": "text/x-python",
   "name": "python",
   "nbconvert_exporter": "python",
   "pygments_lexer": "ipython3",
   "version": "3.8.5"
  }
 },
 "nbformat": 4,
 "nbformat_minor": 4
}
