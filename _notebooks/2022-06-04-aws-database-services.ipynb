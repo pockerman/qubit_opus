{
 "cells": [
  {
   "cell_type": "markdown",
   "metadata": {},
   "source": [
    "# AWS. Database services\n",
    "\n",
    "> 'High level overview of AWS database services'\n",
    "\n",
    "\n",
    "- toc:true\n",
    "- branch: master\n",
    "- badges: false\n",
    "- comments: false\n",
    "- author: Alexandros Giavaras\n",
    "- categories: [aws, aws-database-services, cloud-computing, data-storage]"
   ]
  },
  {
   "cell_type": "markdown",
   "metadata": {},
   "source": [
    "## Overview"
   ]
  },
  {
   "cell_type": "markdown",
   "metadata": {},
   "source": [
    "In a <a href=\"https://pockerman.github.io/qubit_opus/aws/aws-storage-services/cloud-computing/data-storage/2022/05/30/aws-storage-services.html\">previous post</a> we looked at from a higher level perspective various data storage services available with AWS. In this post somehow we expand this view by considering the database services available with AWS."
   ]
  },
  {
   "cell_type": "markdown",
   "metadata": {},
   "source": [
    "## Database services"
   ]
  },
  {
   "cell_type": "markdown",
   "metadata": {},
   "source": [
    "AWS offers a variety of database options to choose from. It supports in-memory databases, relational and non-relational databases. Furthermore, it offers warehousing services. Below we will review some of the available options."
   ]
  },
  {
   "cell_type": "markdown",
   "metadata": {},
   "source": [
    "### Relational database service"
   ]
  },
  {
   "cell_type": "markdown",
   "metadata": {},
   "source": [
    "The first database service we will look into is the <a href=\"https://aws.amazon.com/rds/\">relational database service (RDS)</a>. This service allows us to fully manage relational database services such as MySQL, Microsoft SQL Server, PostgreSQL and Amazon Aurora. "
   ]
  },
  {
   "cell_type": "markdown",
   "metadata": {},
   "source": [
    "### Non-relational database services"
   ]
  },
  {
   "cell_type": "markdown",
   "metadata": {},
   "source": [
    "In addition to relational databases, AWS offers support for non-relational databases such as <a href=\"https://aws.amazon.com/dynamodb/\">Amazon DynamoDB</a>. This is a fast and flexible NoSQL database service with extremely low latency performance."
   ]
  },
  {
   "cell_type": "markdown",
   "metadata": {},
   "source": [
    "<a href=\"https://aws.amazon.com/neptune/\">Amazon Neptune</a> is a graph-based database service that allows us to build and run graph applications with highly connected datasets."
   ]
  },
  {
   "cell_type": "markdown",
   "metadata": {},
   "source": [
    "### Data warehousing"
   ]
  },
  {
   "cell_type": "markdown",
   "metadata": {},
   "source": [
    "Furthermore, AWS offers scalable data warehouse services via the <a href=\"https://aws.amazon.com/redshift/\">Amazon Redshift</a> service. Amazon Redshift uses SQL to analyze structured and semi-structured data across data warehouses, operational databases, and data lakes, using AWS-designed hardware and machine learning to deliver the best price performance at any scale. Redshit is perfect for big data storage solution."
   ]
  },
  {
   "cell_type": "markdown",
   "metadata": {},
   "source": [
    "### Elastic cache"
   ]
  },
  {
   "cell_type": "markdown",
   "metadata": {},
   "source": [
    "Frequently applications need to cache results. The  <a href=\"https://aws.amazon.com/elasticache/\">Amazon ElasticCache</a> service offers microsecond latency and scale with in-memory caching"
   ]
  },
  {
   "cell_type": "markdown",
   "metadata": {},
   "source": [
    "### Database migration service"
   ]
  },
  {
   "cell_type": "markdown",
   "metadata": {},
   "source": [
    "The <a href=\"https://aws.amazon.com/dms/\">AWS Database Migration Service</a> allows us to migrate databases to AWS quickly and securely. The source database remains fully operational during the migration, minimizing downtime to applications that rely on the database. The service can migrate your data to and from the most widely used commercial and open-source databases."
   ]
  },
  {
   "cell_type": "markdown",
   "metadata": {},
   "source": [
    "## Summary"
   ]
  },
  {
   "cell_type": "markdown",
   "metadata": {},
   "source": [
    "In this post we went over a high level overview of the database services available on AWS. In particular, we saw that AWS supports relational and non-relational databases as well as in memory databases suitbale for caching application queries. In addition, AWS supports data warehousing via Amazon Redshift service. Finally AWS allows us to migrate data from our local database to AWS cloud with the database migration service."
   ]
  },
  {
   "cell_type": "markdown",
   "metadata": {},
   "source": [
    "## References"
   ]
  },
  {
   "cell_type": "markdown",
   "metadata": {},
   "source": [
    "1. <a href=\"https://aws.amazon.com/rds/\">Amazon RDS</a>\n",
    "2. <a href=\"https://aws.amazon.com/dynamodb/\">Amazon DynamoDB</a>\n",
    "3. <a href=\"https://aws.amazon.com/redshift/\">Amazon Redshift</a>\n",
    "4. <a href=\"https://aws.amazon.com/elasticache/\">Amazon ElasticCache</a>\n",
    "5. <a href=\"https://aws.amazon.com/dms/\">AWS Database Migration Service</a>\n",
    "6. <a href=\"https://aws.amazon.com/neptune/\">Amazon Neptune</a>"
   ]
  }
 ],
 "metadata": {
  "kernelspec": {
   "display_name": "Python 3",
   "language": "python",
   "name": "python3"
  },
  "language_info": {
   "codemirror_mode": {
    "name": "ipython",
    "version": 3
   },
   "file_extension": ".py",
   "mimetype": "text/x-python",
   "name": "python",
   "nbconvert_exporter": "python",
   "pygments_lexer": "ipython3",
   "version": "3.8.10"
  }
 },
 "nbformat": 4,
 "nbformat_minor": 4
}
