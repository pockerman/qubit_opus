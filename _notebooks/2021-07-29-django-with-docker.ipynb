{
 "cells": [
  {
   "cell_type": "markdown",
   "metadata": {},
   "source": [
    "# Django with Docker\n",
    "\n",
    "> \"How to containerize a  Django application with Docker\"\n",
    "\n",
    "- toc:true\n",
    "- branch: master\n",
    "- badges: false\n",
    "- comments: false\n",
    "- author: Alexandros Giavaras\n",
    "- categories: [programming, django, docker, containers, python]"
   ]
  },
  {
   "cell_type": "markdown",
   "metadata": {},
   "source": [
    "## Overview"
   ]
  },
  {
   "cell_type": "markdown",
   "metadata": {},
   "source": [
    "Deploying applications is never ease regardless of the provisioning one may take. Containers solve many of the problems of application deployment. In this post, I want to describe how to containerize a minimal <a href=\"https://www.djangoproject.com/\">django</a> application with <a href=\"https://www.docker.com/\">docker</a>. I will assume that docker is already installed on the machine. If not, checkout the official <a href=\"https://www.docker.com/\">docker</a> documentation.  The code for this notebook can be found at <a href=\"https://github.com/pockerman/demo_django_with_docker\">this repository</a>.\n"
   ]
  },
  {
   "cell_type": "markdown",
   "metadata": {},
   "source": [
    "### Acknowledgements"
   ]
  },
  {
   "cell_type": "markdown",
   "metadata": {},
   "source": [
    "This post is basically edited from the  <a href=\"https://testdriven.io/\">testdriven.io</a>;  <a href=\"https://testdriven.io/blog/dockerizing-django-with-postgres-gunicorn-and-nginx/\">Dockerizing Django with Postgres, Gunicorn, and Nginx</a> post. You should check this article out if you want more details on what is happening."
   ]
  },
  {
   "cell_type": "markdown",
   "metadata": {},
   "source": [
    "## Django with docker"
   ]
  },
  {
   "cell_type": "markdown",
   "metadata": {},
   "source": [
    "Assuming that docker is already installed on the host machine, I can check the version of docker and docker-compose by typing in the terminal."
   ]
  },
  {
   "cell_type": "markdown",
   "metadata": {},
   "source": [
    "```\n",
    "docker --version\n",
    "docker-compose --version\n",
    "```"
   ]
  },
  {
   "cell_type": "markdown",
   "metadata": {},
   "source": [
    "The application won't do something really great as my goal here is to understand how to make these components work together. Thus, the application I will be looking at has two main components in terms of infrastructure. Namely,"
   ]
  },
  {
   "cell_type": "markdown",
   "metadata": {},
   "source": [
    "- It uses Django to support HTTP requests/responses\n",
    "- It uses MySQL for persistence"
   ]
  },
  {
   "cell_type": "markdown",
   "metadata": {},
   "source": [
    "### Django project"
   ]
  },
  {
   "cell_type": "markdown",
   "metadata": {},
   "source": [
    "Creating a simple Django project is fairly easy. Checkout how to do so  <a href=\"#\">here</a>. Let's create a ```hello_world_django``` project. I will have the project files in the ```app``` directory. So"
   ]
  },
  {
   "cell_type": "markdown",
   "metadata": {},
   "source": [
    "```\n",
    "mkdir app && cd app\n",
    "django-admin startproject hello_world_django .\n",
    "```"
   ]
  },
  {
   "cell_type": "markdown",
   "metadata": {},
   "source": [
    "The above creates the ```app``` directory and within that directory it creates the ```hello_world_django```. "
   ]
  },
  {
   "cell_type": "markdown",
   "metadata": {},
   "source": [
    "```\n",
    " ├── hello_world_django\n",
    "    │   ├── __init__.py\n",
    "    │   ├── asgi.py\n",
    "    │   ├── settings.py\n",
    "    │   ├── urls.py\n",
    "    │   └── wsgi.py\n",
    "    ├── manage.py\n",
    "```"
   ]
  },
  {
   "cell_type": "markdown",
   "metadata": {},
   "source": [
    "Let's create a ```requirements.txt``` file in the ```app``` directory with the following contents"
   ]
  },
  {
   "cell_type": "markdown",
   "metadata": {},
   "source": [
    "```\n",
    "Django==3.0.7\n",
    "```"
   ]
  },
  {
   "cell_type": "markdown",
   "metadata": {},
   "source": [
    "In order to containerize the ```hello_world_django``` project, we need to have a ```Dockerfile```.  A ```Dockerfile``` specifies overall how our application is to be built. So in the ```app``` directory, create a ```Dockerfile``` with the following contents"
   ]
  },
  {
   "cell_type": "markdown",
   "metadata": {},
   "source": [
    "```\n",
    "# pull official base image\n",
    "FROM python:3.8.3-alpine\n",
    "\n",
    "# set work directory\n",
    "WORKDIR /usr/src/app\n",
    "\n",
    "# set environment variables\n",
    "ENV PYTHONDONTWRITEBYTECODE 1\n",
    "ENV PYTHONUNBUFFERED 1\n",
    "\n",
    "# install dependencies\n",
    "RUN pip install --upgrade pip\n",
    "COPY ./requirements.txt .\n",
    "RUN pip install -r requirements.txt\n",
    "\n",
    "# copy project\n",
    "COPY . .\n",
    "```"
   ]
  },
  {
   "cell_type": "markdown",
   "metadata": {},
   "source": [
    "The ```Dockerfile``` above, starts with an Alpine-based Docker image for Python 3.8.3. It then sets a working directory along with two environment variables:"
   ]
  },
  {
   "cell_type": "markdown",
   "metadata": {},
   "source": [
    "- ```PYTHONDONTWRITEBYTECODE```: Prevents Python from writing ```pyc``` files to disc (equivalent to ```python -B``` option)\n",
    "- ```PYTHONUNBUFFERED```: Prevents Python from buffering ```stdout``` and ```stderr``` (equivalent to ```python -u``` option)"
   ]
  },
  {
   "cell_type": "markdown",
   "metadata": {},
   "source": [
    "Finally, it updates ```pip```, copies over the ```requirements.txt``` file, installed the dependencies, and copied over the Django project itself. Although we can use ```docker build``` to build our image, I will use ```docker-compose``` to do so. In the source directory, create a file called ```docker-compose.yml``` with the following contents"
   ]
  },
  {
   "cell_type": "markdown",
   "metadata": {},
   "source": [
    " ```\n",
    "version: '3.8'\n",
    "\n",
    "services:\n",
    "  web:\n",
    "    build: ./app\n",
    "    command: python manage.py runserver 0.0.0.0:8000\n",
    "    volumes:\n",
    "      - ./app/:/usr/src/app/\n",
    "    ports:\n",
    "      - 8000:8000\n",
    "    env_file:\n",
    "      - ./.env.dev\n",
    "\n",
    " ```"
   ]
  },
  {
   "cell_type": "markdown",
   "metadata": {},
   "source": [
    "We also need one more file, namely the ```.env.dev``` file that contains the following"
   ]
  },
  {
   "cell_type": "markdown",
   "metadata": {},
   "source": [
    "```\n",
    "DEBUG=1\n",
    "SECRET_KEY=foo\n",
    "DJANGO_ALLOWED_HOSTS=localhost 127.0.0.1 [::1]\n",
    "\n",
    "```"
   ]
  },
  {
   "cell_type": "markdown",
   "metadata": {},
   "source": [
    "The file should also be placed at the root directory where the ```docker-compose.yml``` is located. We also need to update the ```settings.py``` file so that we can  retrieve these from the environment under which the application is running."
   ]
  },
  {
   "cell_type": "markdown",
   "metadata": {},
   "source": [
    "```\n",
    "SECRET_KEY = os.environ.get(\"SECRET_KEY\")\n",
    "\n",
    "DEBUG = int(os.environ.get(\"DEBUG\", default=0))\n",
    "\n",
    "# 'DJANGO_ALLOWED_HOSTS' should be a single string of hosts with a space between each.\n",
    "# For example: 'DJANGO_ALLOWED_HOSTS=localhost 127.0.0.1 [::1]'\n",
    "ALLOWED_HOSTS = os.environ.get(\"DJANGO_ALLOWED_HOSTS\").split(\" \")\n",
    "\n",
    "```"
   ]
  },
  {
   "cell_type": "markdown",
   "metadata": {},
   "source": [
    "Let's now build the image and check if everything works as described above. We can do so"
   ]
  },
  {
   "cell_type": "markdown",
   "metadata": {},
   "source": [
    "```\n",
    "docker-compose build\n",
    "```"
   ]
  },
  {
   "cell_type": "markdown",
   "metadata": {},
   "source": [
    "Start the container by using "
   ]
  },
  {
   "cell_type": "markdown",
   "metadata": {},
   "source": [
    "```\n",
    "docker-compose up -d\n",
    "```"
   ]
  },
  {
   "cell_type": "markdown",
   "metadata": {},
   "source": [
    "We can view the application at http://0.0.0.0:8000/"
   ]
  },
  {
   "cell_type": "markdown",
   "metadata": {},
   "source": [
    "## Configure MySQL"
   ]
  },
  {
   "cell_type": "markdown",
   "metadata": {},
   "source": [
    " In order to add MySQL into the mix, I need to add a new service into ```docker-compose.yml```. This is shown below"
   ]
  },
  {
   "cell_type": "markdown",
   "metadata": {},
   "source": [
    "```\n",
    "version: '3.7'\n",
    "\n",
    "services:\n",
    "  web:\n",
    "    build: ./app\n",
    "    command: python manage.py runserver 0.0.0.0:8000\n",
    "    volumes:\n",
    "      - ./app/:/usr/src/app/\n",
    "    ports:\n",
    "      - 8000:8000\n",
    "    env_file:\n",
    "      - ./.env.dev\n",
    "   db:\n",
    "    image: mysql:5.7\n",
    "    container_name: mysql_my_django_app\n",
    "    ports:\n",
    "      - '3306:3306'\n",
    "    environment:\n",
    "      MYSQL_DATABASE: 'django_app_demo'\n",
    "      MYSQL_PASSWORD: 'password'\n",
    "      MYSQL_ROOT_PASSWORD: 'password'\n",
    "      \n",
    "   \n",
    "  volumes:\n",
    "    mysql_data:\n",
    "\n",
    "\n",
    "```"
   ]
  },
  {
   "cell_type": "markdown",
   "metadata": {},
   "source": [
    "To persist the data beyond the life of the container we configured a volume. This ```config``` will bind ```mysql_data``` to the ```\"/var/lib/mysql/data/\"``` directory in the container."
   ]
  },
  {
   "cell_type": "markdown",
   "metadata": {},
   "source": [
    "We now have two containers. We can spin them up in the same way"
   ]
  },
  {
   "cell_type": "markdown",
   "metadata": {},
   "source": [
    "```\n",
    "docker-compose up -d --build\n",
    "```"
   ]
  },
  {
   "cell_type": "markdown",
   "metadata": {},
   "source": [
    "Let's instruct Django to run any migrations. Typically, we don't want to do that every time we fire up the container, so I just use a manual approach"
   ]
  },
  {
   "cell_type": "markdown",
   "metadata": {},
   "source": [
    "```\n",
    "docker-compose exec django_app python manage.py migrate\n",
    "```"
   ]
  },
  {
   "cell_type": "markdown",
   "metadata": {},
   "source": [
    "## Summary"
   ]
  },
  {
   "cell_type": "markdown",
   "metadata": {},
   "source": [
    "In this post, I described how to containerize  a minimal Django-based web application. Specifically, I used the following docker commands"
   ]
  },
  {
   "cell_type": "markdown",
   "metadata": {},
   "source": [
    "## References"
   ]
  },
  {
   "cell_type": "markdown",
   "metadata": {},
   "source": [
    "1. <a href=\"https://semaphoreci.com/community/tutorials/dockerizing-a-python-django-web-application\">Dockerizing a Python Django Web Application</a>\n",
    "2. <a href=\"https://realpython.com/django-development-with-docker-compose-and-machine/\">Django Development with Docker Compose and Machine</a>\n",
    "3. <a href=\"https://nickjanetakis.com/blog/dockerize-a-flask-celery-and-redis-application-with-docker-compose\">Dockerize a Flask, Celery, and Redis Application with Docker Compose</a>\n",
    "4. <a href=\"https://testdriven.io/blog/dockerizing-django-with-postgres-gunicorn-and-nginx/\">Dockerizing Django with Postgres, Gunicorn, and Nginx</a>"
   ]
  }
 ],
 "metadata": {
  "kernelspec": {
   "display_name": "Python 3",
   "language": "python",
   "name": "python3"
  },
  "language_info": {
   "codemirror_mode": {
    "name": "ipython",
    "version": 3
   },
   "file_extension": ".py",
   "mimetype": "text/x-python",
   "name": "python",
   "nbconvert_exporter": "python",
   "pygments_lexer": "ipython3",
   "version": "3.8.10"
  }
 },
 "nbformat": 4,
 "nbformat_minor": 4
}
