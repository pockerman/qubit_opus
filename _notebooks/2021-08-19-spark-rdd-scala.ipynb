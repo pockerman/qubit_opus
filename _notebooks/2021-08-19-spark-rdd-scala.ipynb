{
 "cells": [
  {
   "cell_type": "markdown",
   "metadata": {},
   "source": [
    "# Apache Spark RDD with Scala"
   ]
  },
  {
   "cell_type": "markdown",
   "metadata": {},
   "source": [
    "In this post I want to review how to create RDD in a Apache Spark application using Scala. There are various methods to do so. The following example is taken for <a href=\"https://sparkbyexamples.com/apache-spark-rdd/how-to-create-an-rdd-using-parallelize/\">Spark by {Examples}</a>\n"
   ]
  },
  {
   "cell_type": "markdown",
   "metadata": {},
   "source": [
    "```\n",
    "package train.spark\n",
    "\n",
    "import org.apache.spark.SparkContext\n",
    "import org.apache.spark.SparkContext._\n",
    "import org.apache.spark.SparkConf\n",
    "\n",
    "object CreateRDD {\n",
    "  def main(args: Array[String]) {\n",
    "    \n",
    "    val conf = new SparkConf().setAppName(\"Hello Scala Spark\")\n",
    "    val sc = new SparkContext(conf)\n",
    "    \n",
    "    val data = Array(1,2,3,4,5,6,7,8,9,10)\n",
    "    val rdd = sc.parallelize(data)\n",
    "    rdd.foreach(println)\n",
    "  }\n",
    "}\n",
    "```"
   ]
  },
  {
   "cell_type": "markdown",
   "metadata": {},
   "source": [
    "Running the application produces something like the following"
   ]
  },
  {
   "cell_type": "markdown",
   "metadata": {},
   "source": [
    "```\n",
    "3\n",
    "6\n",
    "1\n",
    "8\n",
    "9\n",
    "2\n",
    "7\n",
    "4\n",
    "5\n",
    "10\n",
    "\n",
    "```"
   ]
  },
  {
   "cell_type": "markdown",
   "metadata": {},
   "source": [
    "Note the the output may be different as it depends on which thread access the standard first."
   ]
  }
 ],
 "metadata": {
  "kernelspec": {
   "display_name": "Python 3",
   "language": "python",
   "name": "python3"
  },
  "language_info": {
   "codemirror_mode": {
    "name": "ipython",
    "version": 3
   },
   "file_extension": ".py",
   "mimetype": "text/x-python",
   "name": "python",
   "nbconvert_exporter": "python",
   "pygments_lexer": "ipython3",
   "version": "3.8.10"
  }
 },
 "nbformat": 4,
 "nbformat_minor": 4
}
