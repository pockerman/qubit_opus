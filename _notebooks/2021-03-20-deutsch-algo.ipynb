{
 "cells": [
  {
   "cell_type": "markdown",
   "metadata": {},
   "source": [
    "# Deutsch's Algorithm"
   ]
  },
  {
   "cell_type": "markdown",
   "metadata": {},
   "source": [
    "> \"Deutsch's algorithm\"\n",
    "\n",
    "- toc:false\n",
    "- branch: master\n",
    "- badges: false\n",
    "- comments: false\n",
    "- author: Alexandros Giavaras\n",
    "- categories: [Deutsch, quantum-computing, algorithms, numerics]"
   ]
  },
  {
   "cell_type": "markdown",
   "metadata": {},
   "source": [
    "Quantum computers pose as the future of computing. Although,  at the time of writing, the computing harwdare based on quantum mechanics principles can accommodate only a small number of qubits, algorithms have been developed that demonstrate the superiority of quantum computers for certain class problems."
   ]
  },
  {
   "cell_type": "markdown",
   "metadata": {},
   "source": [
    "One such algorithm, and perhaps the simplest one is <a href=\"https://en.wikipedia.org/wiki/Deutsch%E2%80%93Jozsa_algorithm\">Deutsch's algorithm</a>. The algorithm solves the following problem [1] "
   ]
  },
  {
   "cell_type": "markdown",
   "metadata": {},
   "source": [
    "_Given a boolean function $f:\\{0,1\\} \\rightarrow \\{0,1\\}$ determine if $f$ is constant._"
   ]
  },
  {
   "cell_type": "markdown",
   "metadata": {},
   "source": [
    "The algorithm, can solve the problem with fewer calls to the function $f$ than is possible on a classical machine [1]. A function is called constant if $f(0) = f(1)$. On the other hand, if $f$ is one-to-one, is called balanced [1]."
   ]
  },
  {
   "cell_type": "markdown",
   "metadata": {},
   "source": [
    "Using a classical computer we need to do two evaluations of the function; one for each of the two inputs [1, 2]. On the other hand, Deutsch's algorithm requires only a single call to a black box to solve the problem.  The key to the algorithm is the ability to place the second qubit of the input to the black box in a superposition [2]. Let's see how to do this."
   ]
  },
  {
   "cell_type": "markdown",
   "metadata": {},
   "source": [
    "Deutsch's algorithm works by putting both qubits representing the two inputs into a superposition [1]. The way to do this is using the Hadamard gate. The following image shows this schematically."
   ]
  },
  {
   "cell_type": "markdown",
   "metadata": {},
   "source": [
    " <figure>\n",
    "  <img src=\"my_icons/deutsch_algo.png\" alt=\"Deutsch's algorithm circuit\" style=\"width:60%\">\n",
    "  <figcaption>Figure 1. Deutsch's algorithm circuit. Image from [1].</figcaption>\n",
    "</figure> "
   ]
  },
  {
   "cell_type": "markdown",
   "metadata": {},
   "source": [
    "Let's study how the state system $|\\psi\\rangle$  evolves. Initially the system is at "
   ]
  },
  {
   "cell_type": "markdown",
   "metadata": {},
   "source": [
    "$$|\\psi \\rangle = |01\\rangle$$"
   ]
  },
  {
   "cell_type": "markdown",
   "metadata": {},
   "source": [
    "Appication of the Hadamard gate moves the two qubits respectively to"
   ]
  },
  {
   "cell_type": "markdown",
   "metadata": {},
   "source": [
    "$$|0 \\rangle = \\frac{|0\\rangle + |1\\rangle}{\\sqrt{2}}$$"
   ]
  },
  {
   "cell_type": "markdown",
   "metadata": {},
   "source": [
    "$$ |1 \\rangle = \\frac{|0\\rangle - |1\\rangle}{\\sqrt{2}}$$"
   ]
  },
  {
   "cell_type": "markdown",
   "metadata": {},
   "source": [
    "Thus, $|\\psi\\rangle$ will be at"
   ]
  },
  {
   "cell_type": "markdown",
   "metadata": {},
   "source": [
    "$$|\\psi \\rangle = \\left[\\frac{|0\\rangle + |1\\rangle}{\\sqrt{2}}\\right]\\left[\\frac{|0\\rangle - |1\\rangle}{\\sqrt{2}}\\right]$$"
   ]
  },
  {
   "cell_type": "markdown",
   "metadata": {},
   "source": [
    "Let's rename the top qubit as $|x\\rangle$. We want to evaluate $f(x)$. Note that when the bottom qubit is put into a superposition and then multiply by $U_f$, the system will be at state [1]"
   ]
  },
  {
   "cell_type": "markdown",
   "metadata": {},
   "source": [
    "$$|\\psi \\rangle = (-1)^{f(x)}|x \\rangle \\left[\\frac{|0\\rangle - |1\\rangle}{\\sqrt{2}}\\right]$$"
   ]
  },
  {
   "cell_type": "markdown",
   "metadata": {},
   "source": [
    "Given however that $|x\\rangle$ is also in superposition, we will have that the system will be at state [1]"
   ]
  },
  {
   "cell_type": "markdown",
   "metadata": {},
   "source": [
    "$$|\\psi \\rangle = \\left[ \\frac{(-1)^{f(0)}|0 \\rangle + (-1)^{f(1)}|1 \\rangle}{\\sqrt{2}}\\right]\\left[\\frac{|0\\rangle - |1\\rangle}{\\sqrt{2}}\\right]$$"
   ]
  },
  {
   "cell_type": "markdown",
   "metadata": {},
   "source": [
    "The actual state, as shown in the equation above, depends on the values of $f$. We can summarize this as follows [1]."
   ]
  },
  {
   "cell_type": "markdown",
   "metadata": {},
   "source": [
    "$$|\\psi \\rangle =   \\begin{cases} (\\pm1) \\left[ \\frac{|0 \\rangle + |1 \\rangle}{\\sqrt{2}}\\right]\\left[\\frac{|0\\rangle - |1\\rangle}{\\sqrt{2}}\\right]  \\\\\n",
    "(\\pm1) \\left[ \\frac{|0 \\rangle - |1 \\rangle}{\\sqrt{2}}\\right]\\left[\\frac{|0\\rangle - |1\\rangle}{\\sqrt{2}}\\right]\\end{cases}$$"
   ]
  },
  {
   "cell_type": "markdown",
   "metadata": {},
   "source": [
    "The final step is to apply the Hadamard gate on the top qubit. Recall that the Hadamard matrix is its own inverse. Thus applying it to the top qubit we get [1]"
   ]
  },
  {
   "cell_type": "markdown",
   "metadata": {},
   "source": [
    "$$|\\psi \\rangle =   \\begin{cases} (\\pm1) |0 \\rangle \\left[\\frac{|0\\rangle - |1\\rangle}{\\sqrt{2}}\\right], ~~ \\text{if} ~~ f ~~ \\text{is constant}  \\\\\n",
    "(\\pm1) |1 \\rangle \\left[\\frac{|0\\rangle - |1\\rangle}{\\sqrt{2}}\\right], ~~ \\text{if} ~~ f ~~ \\text{is balanced}\\end{cases}$$"
   ]
  },
  {
   "cell_type": "markdown",
   "metadata": {},
   "source": [
    "Now, we simply measure the top qubit. If it is in state $|0\\rangle$, then we know that f is a constant function [1]. This was all accomplished with\n",
    "only one function evaluation."
   ]
  },
  {
   "cell_type": "markdown",
   "metadata": {},
   "source": [
    "One of the nice points demonstared by the algorithm is that a change of basis can allow solving a problem that otherwise requires more questions to the oracle. In Deutsch algorithm, we start in the canonical basis $|01\\rangle$. The first application of the Hadamard matrices is used to change the basis to go into a balanced superposition of basic states. While in this noncanonical basis, we evaluate $f$ with the bottom qubit. The last Hadamard matrix is used as a change of basis matrix to revert back to the canonical basis [1]."
   ]
  },
  {
   "cell_type": "code",
   "execution_count": 17,
   "metadata": {},
   "outputs": [],
   "source": [
    "import numpy as np\n",
    "import random"
   ]
  },
  {
   "cell_type": "code",
   "execution_count": 18,
   "metadata": {},
   "outputs": [],
   "source": [
    "# the Hadamard matrix\n",
    "H = np.array([[1.0/np.sqrt(2.0), 1.0/np.sqrt(2.0)], [1.0/np.sqrt(2.0), - 1.0/np.sqrt(2.0)]])"
   ]
  },
  {
   "cell_type": "code",
   "execution_count": 26,
   "metadata": {},
   "outputs": [],
   "source": [
    "def oracle(x, y, constant):\n",
    "    \n",
    "    if constant:\n",
    "        f0 = 0 #random.choice([0,1])\n",
    "        f1 = 0 #random.choice([0,1])\n",
    "    else:\n",
    "        \n",
    "        f0 = 0 #random.choice([0,1])\n",
    "        f1 = 1 #random.choice([0,1])\n",
    "        \n",
    "    return np.array([(-1)**f0*x[0], (-1)**f1*x[1]])"
   ]
  },
  {
   "cell_type": "code",
   "execution_count": 27,
   "metadata": {},
   "outputs": [],
   "source": [
    "zero = np.array([1., 0.])\n",
    "one  = np.array([0.0, 1.0])\n"
   ]
  },
  {
   "cell_type": "code",
   "execution_count": 28,
   "metadata": {},
   "outputs": [],
   "source": [
    "zero_H = np.dot(H, zero)\n",
    "one_H = np.dot(H, one)"
   ]
  },
  {
   "cell_type": "code",
   "execution_count": 29,
   "metadata": {},
   "outputs": [
    {
     "name": "stdout",
     "output_type": "stream",
     "text": [
      "[0.70710678 0.70710678]\n",
      "[ 0.70710678 -0.70710678]\n"
     ]
    }
   ],
   "source": [
    "print(zero_H)\n",
    "print(one_H)"
   ]
  },
  {
   "cell_type": "code",
   "execution_count": 30,
   "metadata": {},
   "outputs": [],
   "source": [
    "out_oracle = oracle(x=zero_H, y=one_H, constant=True)"
   ]
  },
  {
   "cell_type": "code",
   "execution_count": 31,
   "metadata": {},
   "outputs": [],
   "source": [
    "x = np.dot(H, out_oracle)"
   ]
  },
  {
   "cell_type": "code",
   "execution_count": 32,
   "metadata": {},
   "outputs": [
    {
     "name": "stdout",
     "output_type": "stream",
     "text": [
      "[1. 0.]\n"
     ]
    }
   ],
   "source": [
    "print(x)"
   ]
  },
  {
   "cell_type": "code",
   "execution_count": 33,
   "metadata": {},
   "outputs": [],
   "source": [
    "out_oracle = oracle(x=zero_H, y=one_H, constant=False)"
   ]
  },
  {
   "cell_type": "code",
   "execution_count": 35,
   "metadata": {},
   "outputs": [],
   "source": [
    "x = np.dot(H, out_oracle)"
   ]
  },
  {
   "cell_type": "code",
   "execution_count": 36,
   "metadata": {},
   "outputs": [
    {
     "name": "stdout",
     "output_type": "stream",
     "text": [
      "[0. 1.]\n"
     ]
    }
   ],
   "source": [
    "print(x)"
   ]
  },
  {
   "cell_type": "markdown",
   "metadata": {},
   "source": [
    "## References"
   ]
  },
  {
   "cell_type": "markdown",
   "metadata": {},
   "source": [
    "1. Noson S. Yanofsky and Mirco A. Mannucci, ```Quantum Computing for Computer Scientists```, Cambridge University Press\n",
    "2. Eleanor Rieffel, Wolfgang Polak, ```Quantum Computing: A Gentle Introduction```, The MIT Press.\n",
    "3. <a href=\"https://en.wikipedia.org/wiki/Deutsch%E2%80%93Jozsa_algorithm\">Deutsch's algorithm</a>"
   ]
  }
 ],
 "metadata": {
  "kernelspec": {
   "display_name": "Python 3",
   "language": "python",
   "name": "python3"
  },
  "language_info": {
   "codemirror_mode": {
    "name": "ipython",
    "version": 3
   },
   "file_extension": ".py",
   "mimetype": "text/x-python",
   "name": "python",
   "nbconvert_exporter": "python",
   "pygments_lexer": "ipython3",
   "version": "3.8.5"
  }
 },
 "nbformat": 4,
 "nbformat_minor": 4
}
